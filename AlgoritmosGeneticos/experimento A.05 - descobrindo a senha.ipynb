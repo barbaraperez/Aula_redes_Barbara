{
 "cells": [
  {
   "cell_type": "markdown",
   "metadata": {},
   "source": [
    "Descobrindo a senha\n",
    "===================\n",
    "\n"
   ]
  },
  {
   "cell_type": "markdown",
   "metadata": {},
   "source": [
    "## Objetivo\n",
    "\n"
   ]
  },
  {
   "cell_type": "markdown",
   "metadata": {},
   "source": [
    "Usar um algoritmo genético para descobrir uma senha.\n",
    "\n"
   ]
  },
  {
   "cell_type": "markdown",
   "metadata": {},
   "source": [
    "## Descrição do problema\n",
    "\n"
   ]
  },
  {
   "cell_type": "markdown",
   "metadata": {},
   "source": [
    "Neste problema, a função objetivo deve saber a senha correta e quantificar de alguma maneira o quão perto ou longe os palpites estão da solução (veja que isso é algo que não temos no mundo real. Nenhum site irá te dizer se você está acertando ou errando seu palpite). O critério de parada deste problema é quando a senha for descoberta.\n",
    "\n"
   ]
  },
  {
   "cell_type": "markdown",
   "metadata": {},
   "source": [
    "## Importações\n",
    "\n"
   ]
  },
  {
   "cell_type": "code",
   "execution_count": 1,
   "metadata": {},
   "outputs": [],
   "source": [
    "from funcoes import populacao_inicial_senha\n",
    "from funcoes import funcao_objetivo_pop_senha\n",
    "from funcoes import selecao_torneio_min\n",
    "from funcoes import cruzamento_ponto_simples as funcao_cruzamento\n",
    "from funcoes import mutacao_senha\n",
    "import random"
   ]
  },
  {
   "cell_type": "markdown",
   "metadata": {},
   "source": [
    "## Códigos e discussão\n",
    "\n"
   ]
  },
  {
   "cell_type": "code",
   "execution_count": 2,
   "metadata": {},
   "outputs": [],
   "source": [
    "### CONSTANTES\n",
    "\n",
    "# relacionadas à busca\n",
    "TAMANHO_POP = 50\n",
    "CHANCE_CRUZAMENTO = 0.5\n",
    "CHANCE_MUTACAO = 0.05\n",
    "NUM_COMBATENTES_NO_TORNEIO = 3\n",
    "\n",
    "# relacionadas ao problema a ser resulvido\n",
    "SENHA = \"correcthorsebatterystaple\"\n",
    "LETRAS_POSSIVEIS = \"abcdefghijklmnopqrstuvwxyz\"\n",
    "NUM_GENES = len(SENHA)"
   ]
  },
  {
   "cell_type": "code",
   "execution_count": 3,
   "metadata": {},
   "outputs": [],
   "source": [
    "# funções locais\n",
    "\n",
    "def cria_populacao_inicial(tamanho, tamanho_senha):\n",
    "    return populacao_inicial_senha(tamanho, tamanho_senha, LETRAS_POSSIVEIS)\n",
    "\n",
    "def funcao_objetivo_pop(populacao):\n",
    "    return funcao_objetivo_pop_senha(populacao, SENHA)\n",
    "\n",
    "def funcao_selecao(populacao, fitness):\n",
    "    return selecao_torneio_min(populacao, fitness, NUM_COMBATENTES_NO_TORNEIO)\n",
    "\n",
    "def funcao_mutacao(individuo):\n",
    "    return mutacao_senha(individuo, LETRAS_POSSIVEIS)"
   ]
  },
  {
   "cell_type": "code",
   "execution_count": 4,
   "metadata": {},
   "outputs": [
    {
     "name": "stdout",
     "output_type": "stream",
     "text": [
      "Progresso da melhor senha já vista:\n",
      "knvmhjgkfrhmadfoqvqcmezkf - fitness: 158\n",
      "hqhrehmhymvyaguvpmshlwvhf - fitness: 151\n",
      "knvmhjgkfrhmadfoqvsctjqqc - fitness: 150\n",
      "hqirehmhymvcaguvpmshlwvhf - fitness: 132\n",
      "knvmhjgkfrvggbykhssctjqqc - fitness: 121\n",
      "hqirehgknhvggbukhssctjqqc - fitness: 112\n",
      "gkurehgknhvggbukhssctjqqc - fitness: 107\n",
      "gkureiyknhvggbukhssctjqqc - fitness: 100\n",
      "gkurehyknhvggbukhssctjqqc - fitness: 99\n",
      "gkureayknhvggbukhssctjqqc - fitness: 96\n",
      "gkurehyknhvggbukhssutjqqc - fitness: 85\n",
      "gkurehyknhvggbuohssutjqqc - fitness: 81\n",
      "gkurehyknhvggbuohswutjqqc - fitness: 77\n",
      "gkurehygnhvggbuohswutjqqc - fitness: 75\n",
      "gkurehyknlvggbuohswutjqqg - fitness: 73\n",
      "gkurehygnlvggbuohswutjqqc - fitness: 71\n",
      "gkurehyknrvggbuohswutjqqg - fitness: 67\n",
      "gkurehyknrvgcbuohswutjqqg - fitness: 63\n",
      "gkurehyknrvggbuthswutjqqg - fitness: 62\n",
      "gkurehpknrvggbuthswutjqqg - fitness: 61\n",
      "gkurehpknrvggbutdswutjqqg - fitness: 59\n",
      "gpurehpknrvggbutdswutjqqg - fitness: 56\n",
      "gpurehpknrvggbutdswutgqqg - fitness: 53\n",
      "gpprehpknrvggbutdswutgqqg - fitness: 52\n",
      "gpprehpknrvggbutdsxutgqqg - fitness: 51\n",
      "epprehpknrvggbutdsxutgqqg - fitness: 49\n",
      "epprehpknrvggbutdsxuteqqg - fitness: 47\n",
      "epprehpknrvgbbutdsxutgqqg - fitness: 44\n",
      "epprehpknrvgbbutdsxuteqqg - fitness: 42\n",
      "eppreapgnrvgbbutduxuteqqg - fitness: 39\n",
      "eppreapgnrvgbbutdsxuteqqg - fitness: 37\n",
      "eppreapgnrvgbbutdsxutaqqg - fitness: 33\n",
      "eppreapgnrvgbbutesxutaqqg - fitness: 32\n",
      "eppreaqgnrvgbbutesxutaqqg - fitness: 31\n",
      "eppreatgnrvgbbutesxutaqqg - fitness: 28\n",
      "eppreatgnrvgbbutesxutaqkg - fitness: 24\n",
      "eopreatgnrvgbbutesxutaqkg - fitness: 23\n",
      "eopreatgnrvgbbutesxutaqkf - fitness: 22\n",
      "eopreatgnrugbbutesxutaqkf - fitness: 21\n",
      "bopreatgnrugbbutesxutaqkf - fitness: 20\n",
      "bopreatgnrugbbutesxutapkf - fitness: 19\n",
      "bopreatgnrugbbutesxstapkf - fitness: 17\n",
      "boqredtgnrugbbutesxutaplf - fitness: 16\n",
      "boqreatgnrugbbutesyrtaplf - fitness: 15\n",
      "boqrectgnrugbbutesxrtaplf - fitness: 14\n",
      "boqrectgnrugbbutesxrtaple - fitness: 13\n",
      "boqrectgnrsgbbutesxrtaple - fitness: 11\n",
      "boqrectgnrsgbbutesxstaple - fitness: 10\n",
      "coqrectgnrsgbbutesxstaple - fitness: 9\n",
      "coqrectgnrsgbbuterxstaple - fitness: 8\n",
      "coqrectgnrsfbbuterxstaple - fitness: 7\n",
      "correctgnrsfbbuterxstaple - fitness: 6\n",
      "correctgnrsfbbtterxstaple - fitness: 5\n",
      "correctgnrsebbtterxstaple - fitness: 4\n",
      "correctgnrsebbtterystaple - fitness: 3\n",
      "correctgnrsebatterystaple - fitness: 2\n",
      "correcthnrsebatterystaple - fitness: 1\n",
      "correcthorsebatterystaple - fitness: 0\n",
      "\n",
      "Melhor palpite da senha encontrado:\n",
      "correcthorsebatterystaple\n"
     ]
    }
   ],
   "source": [
    "populacao = cria_populacao_inicial(TAMANHO_POP, NUM_GENES)\n",
    "\n",
    "melhor_fitness_ja_visto = float(\"inf\")  # é assim que escrevemos infinito em python\n",
    "\n",
    "print(\"Progresso da melhor senha já vista:\")\n",
    "\n",
    "while melhor_fitness_ja_visto != 0:\n",
    "        \n",
    "    # Seleção\n",
    "    fitness = funcao_objetivo_pop(populacao)\n",
    "    populacao = funcao_selecao(populacao, fitness)\n",
    "    \n",
    "    # Cruzamento\n",
    "    pais = populacao[0::2]\n",
    "    maes = populacao[1::2]\n",
    "    \n",
    "    contador = 0\n",
    "    \n",
    "    for pai, mae in zip(pais, maes):\n",
    "        if random.random() <= CHANCE_CRUZAMENTO:\n",
    "            filho1, filho2 = funcao_cruzamento(pai, mae)\n",
    "            populacao[contador] = filho1\n",
    "            populacao[contador + 1] = filho2\n",
    "        \n",
    "        contador = contador + 2   \n",
    "        \n",
    "    # Mutação\n",
    "    for n in range(len(populacao)):\n",
    "        if random.random() <= CHANCE_MUTACAO:\n",
    "            individuo = populacao[n]\n",
    "            populacao[n] = funcao_mutacao(individuo)            \n",
    "            \n",
    "    # melhor individuo já visto até agora\n",
    "    fitness = funcao_objetivo_pop(populacao)\n",
    "    menor_fitness = min(fitness)\n",
    "    if menor_fitness < melhor_fitness_ja_visto:        \n",
    "        posicao = fitness.index(menor_fitness)\n",
    "        melhor_individuo_ja_visto = populacao[posicao]\n",
    "        melhor_fitness_ja_visto = menor_fitness\n",
    "        print(\"\".join(melhor_individuo_ja_visto), \"- fitness:\", melhor_fitness_ja_visto)\n",
    "\n",
    "print()\n",
    "print(\"Melhor palpite da senha encontrado:\")\n",
    "print(\"\".join(melhor_individuo_ja_visto))\n",
    "\n",
    "#Código de autoria do professor Daniel Cassar"
   ]
  },
  {
   "cell_type": "markdown",
   "metadata": {},
   "source": [
    "## Conclusão\n",
    "\n"
   ]
  },
  {
   "cell_type": "markdown",
   "metadata": {},
   "source": [
    "Neste experimento utilizamos o algoritmo genético para a sua aplicação em um problema. Neste caso o algoritmo deveria encontrar uma senha específica a partir de informações como a sua quantia de letras, e algarismos possíveis. Para isso criamos novas funções que resolveriam o problema a partir da conversão das letras para números e medindo a distância que a letra real está da que foi entregue pelo programa. Isso é feito até encontrar a senha correta. Assim, concluimos que os algoritmos genéticos podem ser utilizados para a resolução de problemas em que se deseja encontrar um certo indíviduo a partir de um certo conjunto de dados entregues."
   ]
  },
  {
   "cell_type": "markdown",
   "metadata": {},
   "source": [
    "## Playground\n",
    "\n"
   ]
  },
  {
   "cell_type": "code",
   "execution_count": null,
   "metadata": {},
   "outputs": [],
   "source": []
  }
 ],
 "metadata": {
  "kernelspec": {
   "display_name": "ilumpy",
   "language": "python",
   "name": "ilumpy"
  },
  "language_info": {
   "codemirror_mode": {
    "name": "ipython",
    "version": 3
   },
   "file_extension": ".py",
   "mimetype": "text/x-python",
   "name": "python",
   "nbconvert_exporter": "python",
   "pygments_lexer": "ipython3",
   "version": "3.9.7"
  },
  "org": null
 },
 "nbformat": 4,
 "nbformat_minor": 4
}
