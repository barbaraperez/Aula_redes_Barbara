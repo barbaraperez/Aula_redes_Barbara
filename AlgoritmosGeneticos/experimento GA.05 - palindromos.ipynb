{
 "cells": [
  {
   "cell_type": "markdown",
   "metadata": {},
   "source": [
    "Novos palíndromos\n",
    "========================================\n",
    "\n"
   ]
  },
  {
   "cell_type": "markdown",
   "metadata": {},
   "source": [
    "## Introdução\n",
    "\n"
   ]
  },
  {
   "cell_type": "markdown",
   "metadata": {
    "tags": []
   },
   "source": [
    "Este problema consiste na tentativa do algoritmo de encontrar palíndromos, ou seja, palavras que podem ser lidas da mesma de trás para frente. "
   ]
  },
  {
   "cell_type": "markdown",
   "metadata": {},
   "source": [
    "## Objetivo\n",
    "\n"
   ]
  },
  {
   "cell_type": "markdown",
   "metadata": {},
   "source": [
    "Encontrar pelo menos 10 palíndromos de 5 letras. Estes palíndromos devem ter pelo menos uma vogal. Não é necessário que eles formem palavras válidas em português ou qualquer outro idioma."
   ]
  },
  {
   "cell_type": "markdown",
   "metadata": {},
   "source": [
    "## Importações\n",
    "\n"
   ]
  },
  {
   "cell_type": "markdown",
   "metadata": {},
   "source": [
    "Todos os comandos de `import` devem estar dentro desta seção.\n",
    "\n"
   ]
  },
  {
   "cell_type": "code",
   "execution_count": null,
   "metadata": {},
   "outputs": [],
   "source": [
    "import random\n",
    "from"
   ]
  },
  {
   "cell_type": "markdown",
   "metadata": {},
   "source": [
    "## Códigos e discussão\n",
    "\n"
   ]
  },
  {
   "cell_type": "markdown",
   "metadata": {},
   "source": [
    "-   Use células de código para o código.\n",
    "\n",
    "-   Use células de texto para a discussão.\n",
    "\n",
    "-   A discussão não deve ser feita em comentários dentro das células de código. Toda discussão deve acontecer após o resultado sendo discutido foi apresentado. Exemplo: não discuta um gráfico antes de apresentá-lo.\n",
    "\n"
   ]
  },
  {
   "cell_type": "markdown",
   "metadata": {},
   "source": [
    "O que preciso fazer:\n",
    "\n",
    "Genes = letra\n",
    "indivíduo = palavra\n",
    "\n",
    "converter letra para número\n",
    "a função = reverse\n",
    "população = 10\n",
    "genes = 5\n",
    "\n",
    "#Tenho certas letras possíveis para formar"
   ]
  },
  {
   "cell_type": "code",
   "execution_count": 11,
   "metadata": {},
   "outputs": [],
   "source": [
    "### CONSTANTES\n",
    "\n",
    "# relacionadas à busca\n",
    "TAMANHO_POPULACAO = 10\n",
    "NUM_GENES = 5\n",
    "CHANCE_CRUZAMENTO = 0.5\n",
    "CHANCE_MUTACAO = 0.05\n",
    "NUM_COMBATENTES_NO_TORNEIO = 3\n",
    "\n",
    "\n",
    "# relacionadas ao problema a ser resolvido\n",
    "LETRAS_POSSIVEIS = \"abcdefghijklmnopqrstuvwxyz\""
   ]
  },
  {
   "cell_type": "code",
   "execution_count": 12,
   "metadata": {},
   "outputs": [],
   "source": [
    "def gene_letra(letras):\n",
    "    \"\"\"Sorteia uma letra.\n",
    "    Args:\n",
    "      letras: letras possíveis de serem sorteadas.\n",
    "    Return:\n",
    "      Retorna uma letra dentro das possíveis de serem sorteadas.\n",
    "    \"\"\"\n",
    "    letra = random.choice(letras)\n",
    "    return letra"
   ]
  },
  {
   "cell_type": "code",
   "execution_count": 15,
   "metadata": {},
   "outputs": [],
   "source": [
    "def individuo_palindromo(NUM_GENES,letras):\n",
    "    \"\"\"Cria um individuo para o palindromo\n",
    "    Args:\n",
    "      letras: letras possíveis de serem sorteadas.\n",
    "    Return:\n",
    "      Lista com n letras\n",
    "      NUM_GENES: inteiro representando a quantidade de genes formadores do indivíduo\n",
    "    \"\"\"\n",
    "\n",
    "    individuo = []\n",
    "    for n in range(NUM_GENES):\n",
    "        candidato.append(gene_letra(letras))\n",
    "        \n",
    "    vogal = \"a\",\"e\",\"i\",\"o\",\"u\"\n",
    "    \n",
    "    for x in individuo:\n",
    "        if x in vogal:\n",
    "            \n",
    "            return True\n",
    "    return False\n",
    "\n",
    "    return individuo"
   ]
  },
  {
   "cell_type": "code",
   "execution_count": 16,
   "metadata": {},
   "outputs": [],
   "source": [
    "def populacao_palindromos(TAMANHO_POPULACAO, letras):\n",
    "    \"\"\"Cria população inicial no problema dos palíndromos\n",
    "    Args\n",
    "      tAMANHO_POPULACAO: tamanho da população.\n",
    "      letras: letras possíveis de serem sorteadas.\n",
    "    Returns:\n",
    "      Lista com todos os indivíduos da população no problema da senha.\n",
    "    \"\"\"\n",
    "    populacao = []\n",
    "    for n in range(TAMANHO_POPULACAO):\n",
    "        populacao.append(individuo_palindromo(NUM_GENES,letras))\n",
    "    return populacao"
   ]
  },
  {
   "cell_type": "code",
   "execution_count": null,
   "metadata": {},
   "outputs": [],
   "source": []
  },
  {
   "cell_type": "markdown",
   "metadata": {},
   "source": [
    "tenho caixas - 5 caixas que são os genes possíveis, ou seja letras que formam as palavras \n",
    "Preciso que o código as leia de tras para frente e de frente para tras para ver são dá na mesma\n",
    "Preciso que forme as palavras de forma aletória\n",
    "10 indivuos"
   ]
  },
  {
   "cell_type": "markdown",
   "metadata": {},
   "source": [
    "## Conclusão\n",
    "\n"
   ]
  },
  {
   "cell_type": "markdown",
   "metadata": {},
   "source": [
    "Delete este texto e escreva sua conclusão.\n",
    "\n"
   ]
  },
  {
   "cell_type": "markdown",
   "metadata": {},
   "source": [
    "## Referências consultadas\n",
    "\n"
   ]
  },
  {
   "cell_type": "markdown",
   "metadata": {},
   "source": [
    "1.  Delete este texto e inclua suas referências ordenadas numericamente. Se for referenciar no notebook, use o número entre colchetes (exemplo: para citar essa referência aqui escreva &ldquo;[1]&rdquo; sem as áspas).\n",
    "\n",
    "2.  Cada item deve ser numerado. Siga o padrão apresentado.\n",
    "\n",
    "3.  Caso não tenha nenhuma referência consultada, delete esta seção e o texto contido nela!\n",
    "\n"
   ]
  },
  {
   "cell_type": "markdown",
   "metadata": {},
   "source": [
    "## Playground\n",
    "\n"
   ]
  },
  {
   "cell_type": "markdown",
   "metadata": {},
   "source": [
    "Todo código de teste que não faz parte do seu experimento deve vir aqui. Este código não será considerado na avaliação.\n",
    "\n"
   ]
  },
  {
   "cell_type": "code",
   "execution_count": null,
   "metadata": {},
   "outputs": [],
   "source": []
  }
 ],
 "metadata": {
  "kernelspec": {
   "display_name": "ilumpy",
   "language": "python",
   "name": "ilumpy"
  },
  "language_info": {
   "codemirror_mode": {
    "name": "ipython",
    "version": 3
   },
   "file_extension": ".py",
   "mimetype": "text/x-python",
   "name": "python",
   "nbconvert_exporter": "python",
   "pygments_lexer": "ipython3",
   "version": "3.9.7"
  },
  "org": null
 },
 "nbformat": 4,
 "nbformat_minor": 4
}
