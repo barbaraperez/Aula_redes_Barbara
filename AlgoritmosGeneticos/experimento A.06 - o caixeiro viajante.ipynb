{
 "cells": [
  {
   "cell_type": "markdown",
   "metadata": {},
   "source": [
    "Caixeiro viajante\n",
    "=================\n",
    "\n"
   ]
  },
  {
   "cell_type": "markdown",
   "metadata": {},
   "source": [
    "## Introdução\n",
    "\n"
   ]
  },
  {
   "cell_type": "markdown",
   "metadata": {},
   "source": [
    "Até agora, sempre que nós aplicamos os operadores de `cruzamento` ou de `mutação` nós não nos preocupamos se o indivíduo gerado por estes processo era um `indivíduo válido`. Um indivíduo válido é aquele que representa uma solução possível e bem formulada para o problema em questão.\n",
    "\n",
    "Por exemplo, no problema das caixas binárias, [1, 0, 0, 1] é um indivíduo válido para o caso de termos 4 caixas. Um exemplo de `indivíduo inválido` para este mesmo problema seria [1, 0, 0, a], pois um dos genes está assumindo um valor fora do domínio. Outro exemplo de indivíduo inválido poderia ser [1, 1, 0], pois é um indivíduo com apenas 3 genes, sendo que o esperado eram 4 genes.\n",
    "\n",
    "Neste experimento nós veremos estratégias para evitar que indivíduos inválidos sejam obtidos quando usamos os operadores de cruzamento e de mutação. No notebook seguinte veremos como aplicar uma penalidade para indivíduos inválidos que forem gerados durante uma busca genética com restrições.\n",
    "\n"
   ]
  },
  {
   "cell_type": "markdown",
   "metadata": {},
   "source": [
    "## Objetivo\n",
    "\n"
   ]
  },
  {
   "cell_type": "markdown",
   "metadata": {},
   "source": [
    "Encontrar uma solução para o problema do caixeiro viajante. Considere que ele irá visitar 5 cidades, pode iniciar sua viagem por qualquer uma destas cidades e deve retornar à cidade de início. Durante seu trajeto, não pode visitar a mesma cidade duas vezes (única exceção é a cidade inicial).\n",
    "\n"
   ]
  },
  {
   "cell_type": "markdown",
   "metadata": {},
   "source": [
    "## Descrição do problema\n",
    "\n"
   ]
  },
  {
   "cell_type": "markdown",
   "metadata": {},
   "source": [
    "O problema consiste em descobrir a rota de menor distância entre $n$ pontos no plano cartesiano (ou seja, $n$ pontos com coordenadas $(x,y)$). A rota pode se iniciar em qualquer um dos pontos disponíveis e deve terminar no ponto inicial, visitando todos os demais pontos apenas uma vez. Considere que a rota entre um ponto e outro é a linha reta que liga os dois pontos.\n",
    "\n",
    "O código abaixo é um gerador de coordenadas de cidades. Use ele caso queira.\n",
    "\n"
   ]
  },
  {
   "cell_type": "markdown",
   "metadata": {},
   "source": [
    "## Importações\n",
    "\n"
   ]
  },
  {
   "cell_type": "code",
   "execution_count": 2,
   "metadata": {},
   "outputs": [],
   "source": [
    "import random\n",
    "from itertools import permutations\n",
    "\n",
    "from funcoes import cria_cidades\n",
    "from funcoes import populacao_inicial_cv as cria_populacao_inicial\n",
    "from funcoes import funcao_objetivo_pop_cv\n",
    "from funcoes import funcao_objetivo_cv\n",
    "from funcoes import selecao_torneio_min as funcao_selecao \n",
    "from funcoes import cruzamento_ordenado as funcao_cruzamento\n",
    "from funcoes import mutacao_de_troca as funcao_mutacao"
   ]
  },
  {
   "cell_type": "markdown",
   "metadata": {},
   "source": [
    "## Códigos e discussão\n",
    "\n"
   ]
  },
  {
   "cell_type": "code",
   "execution_count": 3,
   "metadata": {},
   "outputs": [],
   "source": [
    "### CONSTANTES\n",
    "\n",
    "# relacionadas à busca\n",
    "TAMANHO_POP = 50\n",
    "NUM_GERACOES = 1000\n",
    "CHANCE_CRUZAMENTO = 0.5\n",
    "CHANCE_MUTACAO = 0.05\n",
    "NUM_COMBATENTES_NO_TORNEIO = 3\n",
    "\n",
    "# relacionadas ao problema a ser resolvido\n",
    "\n",
    "NUMERO_DE_CIDADES = 10\n",
    "CIDADES = cria_cidades(NUMERO_DE_CIDADES)"
   ]
  },
  {
   "cell_type": "code",
   "execution_count": 4,
   "metadata": {},
   "outputs": [],
   "source": [
    "#Funções locais\n",
    "\n",
    "def funcao_objetivo_pop(populacao):\n",
    "    return funcao_objetivo_pop_cv(populacao, CIDADES)\n",
    "\n",
    "def funcao_objetivo_individuo(individuo):\n",
    "    return funcao_objetivo_cv(individuo, CIDADES)"
   ]
  },
  {
   "cell_type": "code",
   "execution_count": 5,
   "metadata": {},
   "outputs": [],
   "source": [
    "# Busca por algoritmo genético\n",
    "\n",
    "populacao = cria_populacao_inicial(TAMANHO_POP, CIDADES)\n",
    "\n",
    "melhor_fitness_ja_visto = float(\"inf\")  # é assim que escrevemos infinito em python\n",
    "\n",
    "for n in range(NUM_GERACOES):\n",
    "    \n",
    "    # Seleção\n",
    "    fitness = funcao_objetivo_pop(populacao)\n",
    "    populacao = funcao_selecao(populacao, fitness)\n",
    "    \n",
    "    # Cruzamento\n",
    "    pais = populacao[0::2]\n",
    "    maes = populacao[1::2]\n",
    "    \n",
    "    contador = 0\n",
    "    \n",
    "    for pai, mae in zip(pais, maes):\n",
    "        if random.random() <= CHANCE_CRUZAMENTO:\n",
    "            filho1, filho2 = funcao_cruzamento(pai, mae)\n",
    "            populacao[contador] = filho1\n",
    "            populacao[contador + 1] = filho2\n",
    "        \n",
    "        contador = contador + 2   \n",
    "        \n",
    "    # Mutação\n",
    "    for n in range(len(populacao)):\n",
    "        if random.random() <= CHANCE_MUTACAO:\n",
    "            individuo = populacao[n]\n",
    "            populacao[n] = funcao_mutacao(individuo)            \n",
    "            \n",
    "    # melhor individuo já visto até agora\n",
    "    fitness = funcao_objetivo_pop(populacao)\n",
    "    menor_fitness = min(fitness)\n",
    "    if menor_fitness < melhor_fitness_ja_visto:        \n",
    "        posicao = fitness.index(menor_fitness)\n",
    "        melhor_individuo_ja_visto = populacao[posicao]\n",
    "        melhor_fitness_ja_visto = menor_fitness \n",
    "        \n",
    "#Código feito em conjunto com o professor Daniel Cassar durante a aula"
   ]
  },
  {
   "cell_type": "code",
   "execution_count": 6,
   "metadata": {},
   "outputs": [],
   "source": [
    "# Busca testando todas as permutações\n",
    "\n",
    "melhor_fitness_ever = float(\"inf\")\n",
    "\n",
    "# testando todas as permutações possíveis\n",
    "for caminho in permutations(list(CIDADES.keys())):\n",
    "    distancia = funcao_objetivo_individuo(caminho)\n",
    "    if distancia < melhor_fitness_ever:\n",
    "        melhor_fitness_ever = distancia\n",
    "        melhor_resposta_ever = caminho\n",
    "        \n",
    "#Código feito em conjunto com o professor Daniel Cassar durante a aula"
   ]
  },
  {
   "cell_type": "code",
   "execution_count": 7,
   "metadata": {},
   "outputs": [
    {
     "name": "stdout",
     "output_type": "stream",
     "text": [
      "\n",
      "Melhor individuo obtido por algoritmos genéticos:\n",
      "['Cidade 6', 'Cidade 9', 'Cidade 5', 'Cidade 7', 'Cidade 4', 'Cidade 3', 'Cidade 2', 'Cidade 8', 'Cidade 1', 'Cidade 0'] com distância: 2.9333494443153803\n",
      "\n",
      "Melhor individuo obtido por busca exaustiva:\n",
      "('Cidade 1', 'Cidade 0', 'Cidade 6', 'Cidade 9', 'Cidade 4', 'Cidade 7', 'Cidade 5', 'Cidade 3', 'Cidade 2', 'Cidade 8') com distância: 2.9333494443153803\n"
     ]
    }
   ],
   "source": [
    "# Checando os resultados\n",
    "\n",
    "print()\n",
    "print(\"Melhor individuo obtido por algoritmos genéticos:\")\n",
    "print(melhor_individuo_ja_visto, \"com distância:\", melhor_fitness_ja_visto)\n",
    "\n",
    "print()\n",
    "print(\"Melhor individuo obtido por busca exaustiva:\")\n",
    "print(melhor_resposta_ever, \"com distância:\", melhor_fitness_ever)\n",
    "\n",
    "#Código feito em conjunto com o professor Daniel Cassar durante a aula"
   ]
  },
  {
   "cell_type": "markdown",
   "metadata": {},
   "source": [
    "## Conclusão\n",
    "\n"
   ]
  },
  {
   "cell_type": "markdown",
   "metadata": {},
   "source": [
    "O experimento 6 teve como objetivo aplicar os algoritmos genéticos para o problema do caixeiro viajante. Tinhamos como hipótese inicial que resolver esse problema utilizando esta técnica tornaria a chegada no resultado mais rápida e com menor gasto computacional do que ao fazer utilizando outros métodos como a busca exaustiva. Antes de iniciar a explicação do que foi feito, precisamos entender o que é o problema do caixeiro viajante. Esse problema consiste em uma pessoa que deseja fazer um trajeto passando por algumas cidades diferentes utilizando o caminho mais curto possível, isso sem passar duas vezes pela mesma cidade. \n",
    "\t\n",
    "Então, para atingir o objetivo do experimento foi necessário construir algumas funções. Dentre elas, as que julgo mais relevante apresentar aqui é a função que calcula a distância entre as cidades, a de mutação e a função objetivo. A função de distância estruturou se no cálculo euclidiano a partir de dois pontos referentes ao eixo \"x\" do plano cartesiano e dois que referem-se ao eixo \"y\". A função mutação para esse problema foi diferente da utilizada anteriormente, sendo ela não simples, devido a limitações do problema em que uma mesma cidade não pode ser repitida. Por fim, a função objetivo do experimento estruturou-se em um loop que cálcula as distâncias obtidas nos diferentes caminhos possíveis e, então, por se tratar de um problema de minimização, retorna o caminho com a menor distância possível.\n",
    "\t\n",
    "No final, por comparação com a busca exaustiva, não conseguimos obter um resultado significante para justificar a maior eficiência do algoritmo genético testando com um número igual ou menor que cinco cidades. No entanto, a partir de 7 cidades foi possível perceber uma demora maior da busca exaustiva para rodar o código enquanto que o algoritmo genético continuava tão rápido quanto com poucas cidades.\n",
    "\t\n",
    "Com todo esse experimento aprendi uma nova forma de aplicar os algoritmos genéticos, a importância de se atentar a função de mutação que será utilizada no problema.\n",
    "\n",
    "Comentário: Professor, estou tendo bastante dificuldade em acompanhar o raciocínio para a construção do código. Parece que entendo quando te vejo fazendo, mas na hora de fazer sozinha fica muito difícil. Você tem sugestões do que posso fazer para melhorar?"
   ]
  },
  {
   "cell_type": "markdown",
   "metadata": {},
   "source": [
    "## Playground\n",
    "\n"
   ]
  },
  {
   "cell_type": "code",
   "execution_count": 10,
   "metadata": {},
   "outputs": [],
   "source": [
    "import matplotlib.pyplot as plt"
   ]
  },
  {
   "cell_type": "code",
   "execution_count": 11,
   "metadata": {},
   "outputs": [
    {
     "name": "stdout",
     "output_type": "stream",
     "text": [
      "[(0.1989582139856596, 0.9925806754475868), (0.9526073243111554, 0.3964033737962984), (0.8780376740802165, 0.2911547456687972), (0.8321741486430534, 0.2910773824945221), (0.7257763996740106, 0.25045337555391733), (0.4966398599160283, 0.19077442623043295), (0.07203497786537227, 0.03352123481378144), (0.0692499095898994, 0.24064575850118153), (0.0663568388023913, 0.29216297122514945), (0.21341471359403186, 0.5866402606040817)]\n"
     ]
    }
   ],
   "source": [
    "#Criando grafo ilustrativo do problema\n",
    "\n",
    "grafo_do_caminho = [] \n",
    "\n",
    "for i in melhor_resposta_ever:\n",
    "    grafo_do_caminho.append(CIDADES[str(i)])\n",
    "print(grafo_do_caminho)"
   ]
  },
  {
   "cell_type": "code",
   "execution_count": 12,
   "metadata": {},
   "outputs": [
    {
     "data": {
      "image/png": "[encoded data removed]",
      "text/plain": [
       "<Figure size 432x288 with 1 Axes>"
      ]
     },
     "metadata": {
      "needs_background": "light"
     },
     "output_type": "display_data"
    }
   ],
   "source": [
    "#Dando nome a cada um dos pontos que compõem a localização das cidades\n",
    "\n",
    "x = [ponto[0] for ponto in grafo_do_caminho]\n",
    "y = [ponto[1] for ponto in grafo_do_caminho]\n",
    "\n",
    "for n, nome in enumerate(melhor_resposta_ever):\n",
    "    plt.annotate(nome, (x[n], y[n]), textcoords = \"offset points\", xytext=(5, -10), ha='center')\n",
    "    \n",
    "#Plotando os pontos\n",
    "\n",
    "plt.scatter(x,y)\n",
    "\n",
    "#liga os pontos com segmentos de reta\n",
    "\n",
    "for e in range(len(grafo_do_caminho)-1):\n",
    "    plt.plot([grafo_do_caminho[e][0], grafo_do_caminho[e+1][0]], [grafo_do_caminho[e][1], grafo_do_caminho[e+1][1]], 'b-')\n",
    "    \n",
    "#Dando nome aos eixos\n",
    "\n",
    "plt.xlabel('Coordenada x')\n",
    "plt.ylabel('Coordenada y')\n",
    "plt.title('Trajetória da viagem')\n",
    "\n",
    "plt.show()"
   ]
  },
  {
   "cell_type": "code",
   "execution_count": null,
   "metadata": {},
   "outputs": [],
   "source": []
  }
 ],
 "metadata": {
  "kernelspec": {
   "display_name": "ilumpy",
   "language": "python",
   "name": "ilumpy"
  },
  "language_info": {
   "codemirror_mode": {
    "name": "ipython",
    "version": 3
   },
   "file_extension": ".py",
   "mimetype": "text/x-python",
   "name": "python",
   "nbconvert_exporter": "python",
   "pygments_lexer": "ipython3",
   "version": "3.9.7"
  },
  "org": null
 },
 "nbformat": 4,
 "nbformat_minor": 4
}
