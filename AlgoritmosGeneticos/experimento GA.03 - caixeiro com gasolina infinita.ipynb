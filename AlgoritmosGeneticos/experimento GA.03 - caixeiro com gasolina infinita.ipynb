{
 "cells": [
  {
   "cell_type": "markdown",
   "metadata": {},
   "source": [
    "O caixeiro com gasolina infinita (e sem conciência ambiental)\n",
    "========================================\n",
    "\n"
   ]
  },
  {
   "cell_type": "markdown",
   "metadata": {},
   "source": [
    "## Introdução\n",
    "\n"
   ]
  },
  {
   "cell_type": "markdown",
   "metadata": {
    "tags": []
   },
   "source": [
    "Este problema consiste na tentativa do algoritmo de encontrar o maior caminho para se chegar a realizar uma viagem passando por algumas cidades sem passar duas vezes pelo mesmo lugar."
   ]
  },
  {
   "cell_type": "markdown",
   "metadata": {},
   "source": [
    "## Objetivo\n",
    "\n"
   ]
  },
  {
   "cell_type": "markdown",
   "metadata": {},
   "source": [
    "Encontrar o caminho de *maior* distância no problema do caixeiro viajante e mostrar ele de forma gráfica."
   ]
  },
  {
   "cell_type": "markdown",
   "metadata": {},
   "source": [
    "**Considerações do experimento**:\n",
    "Considere um número $n\\geq 7$ de coordenadas $(x,y)$ de cidades e que o caixeiro tenha combustível infinito. Você pode gerar as coordenadas de forma aleatória ou simplesmente usar as coordenadas que desejar. O caixeiro só anda em linha reta e apenas entre duas cidades. O caixeiro começa e termina seu trajeto na mesma cidade e, fora a cidade inicial, ele não visita nenhuma outra cidade mais de uma vez."
   ]
  },
  {
   "cell_type": "markdown",
   "metadata": {},
   "source": [
    "## Importações\n",
    "\n"
   ]
  },
  {
   "cell_type": "markdown",
   "metadata": {},
   "source": [
    "Todos os comandos de `import` devem estar dentro desta seção.\n",
    "\n"
   ]
  },
  {
   "cell_type": "code",
   "execution_count": 14,
   "metadata": {},
   "outputs": [],
   "source": [
    "import random \n",
    "import matplotlib.pyplot as plt\n",
    "from itertools import permutations\n",
    "from funcoes import cria_cidades\n",
    "from funcoes import selecao_torneio_max as funcao_selecao\n",
    "from funcoes import populacao_inicial_cv as cria_populacao_inicial\n",
    "from funcoes import funcao_objetivo_pop_cv\n",
    "from funcoes import funcao_objetivo_cv\n",
    "from funcoes import cruzamento_ordenado as funcao_cruzamento\n",
    "from funcoes import mutacao_de_troca as funcao_mutacao"
   ]
  },
  {
   "cell_type": "markdown",
   "metadata": {},
   "source": [
    "## Códigos e discussão\n",
    "\n"
   ]
  },
  {
   "cell_type": "code",
   "execution_count": 4,
   "metadata": {},
   "outputs": [],
   "source": [
    "### CONSTANTES\n",
    "\n",
    "# relacionadas à busca\n",
    "TAMANHO_POP = 50\n",
    "NUM_GERACOES = 1000\n",
    "CHANCE_CRUZAMENTO = 0.5\n",
    "CHANCE_MUTACAO = 0.05\n",
    "NUM_COMBATENTES_NO_TORNEIO = 3\n",
    "\n",
    "# relacionadas ao problema a ser resolvido\n",
    "\n",
    "NUMERO_DE_CIDADES = 8\n",
    "CIDADES = cria_cidades(NUMERO_DE_CIDADES)"
   ]
  },
  {
   "cell_type": "code",
   "execution_count": 5,
   "metadata": {},
   "outputs": [],
   "source": [
    "#Funções locais\n",
    "\n",
    "def funcao_objetivo_pop(populacao):\n",
    "    return funcao_objetivo_pop_cv(populacao, CIDADES)\n",
    "\n",
    "def funcao_objetivo_individuo(individuo):\n",
    "    return funcao_objetivo_cv(individuo, CIDADES)"
   ]
  },
  {
   "cell_type": "code",
   "execution_count": 6,
   "metadata": {},
   "outputs": [],
   "source": [
    "# Busca por algoritmo genético\n",
    "\n",
    "populacao = cria_populacao_inicial(TAMANHO_POP, CIDADES)\n",
    "\n",
    "melhor_fitness_ja_visto = -float(\"inf\")  # é assim que escrevemos infinito em python\n",
    "\n",
    "for n in range(NUM_GERACOES):\n",
    "    \n",
    "    # Seleção\n",
    "    fitness = funcao_objetivo_pop(populacao)\n",
    "    populacao = funcao_selecao(populacao, fitness)\n",
    "    \n",
    "    # Cruzamento\n",
    "    pais = populacao[0::2]\n",
    "    maes = populacao[1::2]\n",
    "    \n",
    "    contador = 0\n",
    "    \n",
    "    for pai, mae in zip(pais, maes):\n",
    "        if random.random() <= CHANCE_CRUZAMENTO:\n",
    "            filho1, filho2 = funcao_cruzamento(pai, mae)\n",
    "            populacao[contador] = filho1\n",
    "            populacao[contador + 1] = filho2\n",
    "        \n",
    "        contador = contador + 2   \n",
    "        \n",
    "    # Mutação\n",
    "    for n in range(len(populacao)):\n",
    "        if random.random() <= CHANCE_MUTACAO:\n",
    "            individuo = populacao[n]\n",
    "            populacao[n] = funcao_mutacao(individuo)            \n",
    "            \n",
    "    # melhor individuo já visto até agora\n",
    "    fitness = funcao_objetivo_pop(populacao)\n",
    "    maior_fitness = max(fitness)\n",
    "    if maior_fitness > melhor_fitness_ja_visto:        \n",
    "        posicao = fitness.index(maior_fitness)\n",
    "        melhor_individuo_ja_visto = populacao[posicao]\n",
    "        melhor_fitness_ja_visto = maior_fitness \n",
    "        \n",
    "#Código feito de forma semelhante ao códido do professor Daniel Cassar para o problema do caixeiro viajante no caso de minimização"
   ]
  },
  {
   "cell_type": "code",
   "execution_count": 7,
   "metadata": {},
   "outputs": [],
   "source": [
    "# Busca testando todas as permutações\n",
    "\n",
    "melhor_fitness_ever = -float(\"inf\")\n",
    "\n",
    "# testando todas as permutações possíveis\n",
    "for caminho in permutations(list(CIDADES.keys())):\n",
    "    distancia = funcao_objetivo_individuo(caminho)\n",
    "    if distancia > melhor_fitness_ever:\n",
    "        melhor_fitness_ever = distancia\n",
    "        melhor_resposta_ever = caminho\n",
    "        \n",
    "#Código feito de forma semelhante ao códido do professor Daniel Cassar para o problema do caixeiro viajante no caso de minimização"
   ]
  },
  {
   "cell_type": "code",
   "execution_count": 8,
   "metadata": {},
   "outputs": [
    {
     "name": "stdout",
     "output_type": "stream",
     "text": [
      "\n",
      "Melhor individuo obtido por algoritmos genéticos:\n",
      "['Cidade 4', 'Cidade 3', 'Cidade 0', 'Cidade 5', 'Cidade 6', 'Cidade 1', 'Cidade 2', 'Cidade 7'] com distância: 5.136059910018164\n",
      "\n",
      "Melhor individuo obtido por busca exaustiva:\n",
      "('Cidade 0', 'Cidade 2', 'Cidade 3', 'Cidade 7', 'Cidade 4', 'Cidade 1', 'Cidade 6', 'Cidade 5') com distância: 5.136059910018164\n"
     ]
    }
   ],
   "source": [
    "# Checando os resultados\n",
    "\n",
    "print()\n",
    "print(\"Melhor individuo obtido por algoritmos genéticos:\")\n",
    "print(melhor_individuo_ja_visto, \"com distância:\", melhor_fitness_ja_visto)\n",
    "\n",
    "print()\n",
    "print(\"Melhor individuo obtido por busca exaustiva:\")\n",
    "print(melhor_resposta_ever, \"com distância:\", melhor_fitness_ever)\n",
    "\n",
    "#Código feito de forma semelhante ao códido do professor Daniel Cassar para o problema do caixeiro viajante no caso de minimização"
   ]
  },
  {
   "cell_type": "markdown",
   "metadata": {},
   "source": [
    "### Ilustrando o problema por meio de grafos"
   ]
  },
  {
   "cell_type": "code",
   "execution_count": 15,
   "metadata": {},
   "outputs": [
    {
     "name": "stdout",
     "output_type": "stream",
     "text": [
      "[(0.7637216160685278, 0.3833832266128321), (0.7344842835163099, 0.9771658243211198), (0.6986871763415585, 0.028212308894888016), (0.9135535878955825, 0.7534743350685877), (0.6149464263608588, 0.17890026037163198), (0.8315819560911263, 0.5806853367819935), (0.007652903129312105, 0.608708958577301), (0.7471099784793915, 0.5476748925533835)]\n"
     ]
    }
   ],
   "source": [
    "#Criando grafo ilustrativo do problema\n",
    "\n",
    "grafo_do_caminho = [] \n",
    "\n",
    "for i in melhor_resposta_ever:\n",
    "    grafo_do_caminho.append(CIDADES[str(i)])\n",
    "print(grafo_do_caminho)"
   ]
  },
  {
   "cell_type": "code",
   "execution_count": 19,
   "metadata": {},
   "outputs": [
    {
     "data": {
      "image/png": "[encoded data removed]",
      "text/plain": [
       "<Figure size 432x288 with 1 Axes>"
      ]
     },
     "metadata": {
      "needs_background": "light"
     },
     "output_type": "display_data"
    }
   ],
   "source": [
    "#Dando nome a cada um dos pontos que compõem a localização das cidades\n",
    "\n",
    "x = [ponto[0] for ponto in grafo_do_caminho]\n",
    "y = [ponto[1] for ponto in grafo_do_caminho]\n",
    "\n",
    "for n, nome in enumerate(melhor_resposta_ever):\n",
    "    plt.annotate(nome, (x[n], y[n]), textcoords = \"offset points\", xytext=(5, -10), ha='center')\n",
    "    \n",
    "#Plotando os pontos\n",
    "\n",
    "plt.scatter(x,y)\n",
    "\n",
    "#liga os pontos com segmentos de reta\n",
    "\n",
    "for e in range(len(grafo_do_caminho)-1):\n",
    "    plt.plot([grafo_do_caminho[e][0], grafo_do_caminho[e+1][0]], [grafo_do_caminho[e][1], grafo_do_caminho[e+1][1]], 'b-')\n",
    "    \n",
    "#Dando nome aos eixos\n",
    "\n",
    "plt.xlabel('Coordenada x')\n",
    "plt.ylabel('Coordenada y')\n",
    "plt.title('Trajetória da viagem')\n",
    "\n",
    "plt.show()"
   ]
  },
  {
   "cell_type": "markdown",
   "metadata": {},
   "source": [
    "## Conclusão\n",
    "\n"
   ]
  },
  {
   "cell_type": "markdown",
   "metadata": {},
   "source": [
    "Este problema é bem semelhante com o do caixeiro viajante, sendo assim, seu algoritmo genético é bem parecido com o abordado no experimento de aula 6. A diferença presente naquele problema e neste é que agora queremos encontrar o maior trajeto possível para o viajante percorrer, dessa forma, trata-se de um problema de maximização. Com isso, na hora de programar o algoritmo precisamos mudar todos os sinais que buscam o menor maior possível para a variável, pelo sinal que busca o maior valor. Ademais, para esse problema foi necessário o uso da função de torneio máximo e não o mínimo. Por fim, para ilustrar o problema, foi feito um grafo ilustrativo do caminho que o viajante deveria percorrer."
   ]
  },
  {
   "cell_type": "markdown",
   "metadata": {},
   "source": [
    "## Playground\n",
    "\n"
   ]
  },
  {
   "cell_type": "markdown",
   "metadata": {},
   "source": [
    "Todo código de teste que não faz parte do seu experimento deve vir aqui. Este código não será considerado na avaliação.\n",
    "\n"
   ]
  },
  {
   "cell_type": "code",
   "execution_count": null,
   "metadata": {},
   "outputs": [],
   "source": []
  }
 ],
 "metadata": {
  "kernelspec": {
   "display_name": "ilumpy",
   "language": "python",
   "name": "ilumpy"
  },
  "language_info": {
   "codemirror_mode": {
    "name": "ipython",
    "version": 3
   },
   "file_extension": ".py",
   "mimetype": "text/x-python",
   "name": "python",
   "nbconvert_exporter": "python",
   "pygments_lexer": "ipython3",
   "version": "3.9.7"
  },
  "org": null
 },
 "nbformat": 4,
 "nbformat_minor": 4
}
