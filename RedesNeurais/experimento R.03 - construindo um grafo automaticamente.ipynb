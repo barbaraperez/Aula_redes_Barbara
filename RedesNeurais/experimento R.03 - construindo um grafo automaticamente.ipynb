{
 "cells": [
  {
   "cell_type": "markdown",
   "metadata": {},
   "source": [
    "Construindo um grafo automaticamente\n",
    "====================================\n",
    "\n"
   ]
  },
  {
   "cell_type": "markdown",
   "metadata": {},
   "source": [
    "## Introdução\n",
    "\n"
   ]
  },
  {
   "cell_type": "markdown",
   "metadata": {},
   "source": [
    "Neste notebook nós vamos dar o primeiro passo para construir nossa rede neural artificial. Neste primeiro passo, nós vamos criar uma classe que gera automaticamente o nosso `grafo computacional`. O grafo computacional é o grafo que representa todas as operações matemáticas que ocorreram ao se computar um certo valor $y$. O grafo computacional é um passo necessário pois será baseado nele que iremos computar os gradientes locais necessários para realizar o `backpropagation`.\n",
    "\n"
   ]
  },
  {
   "cell_type": "markdown",
   "metadata": {},
   "source": [
    "## Importações\n",
    "\n"
   ]
  },
  {
   "cell_type": "code",
   "execution_count": 1,
   "metadata": {},
   "outputs": [],
   "source": [
    "from funcoes import plota_grafo"
   ]
  },
  {
   "cell_type": "markdown",
   "metadata": {},
   "source": [
    "## Código e discussão\n",
    "\n"
   ]
  },
  {
   "cell_type": "markdown",
   "metadata": {},
   "source": [
    "### Primeiros passos\n",
    "\n"
   ]
  },
  {
   "cell_type": "markdown",
   "metadata": {},
   "source": [
    "A base de tudo será uma classe chamada `Valor`. Vamos começar pelo básico!\n",
    "\n"
   ]
  },
  {
   "cell_type": "code",
   "execution_count": 2,
   "metadata": {},
   "outputs": [],
   "source": [
    "class Valor:\n",
    "    def __init__(self, data):\n",
    "        self.data = data\n",
    "\n",
    "    def __repr__(self):\n",
    "        return f\"Valor(data={self.data})\""
   ]
  },
  {
   "cell_type": "markdown",
   "metadata": {},
   "source": [
    "Vamos testar nossa classe!\n",
    "\n"
   ]
  },
  {
   "cell_type": "code",
   "execution_count": 3,
   "metadata": {},
   "outputs": [
    {
     "name": "stdout",
     "output_type": "stream",
     "text": [
      "Valor(data=60)\n",
      "60\n"
     ]
    }
   ],
   "source": [
    "x1 = Valor(60)\n",
    "print(x1)\n",
    "print(x1.data)"
   ]
  },
  {
   "cell_type": "markdown",
   "metadata": {},
   "source": [
    "### Os dunders `__add__` e `__mul__`\n",
    "\n"
   ]
  },
  {
   "cell_type": "markdown",
   "metadata": {},
   "source": [
    "Observe que não conseguimos adicionar nem multiplicar objetos criados com a classe `Valor`.\n",
    "\n"
   ]
  },
  {
   "cell_type": "code",
   "execution_count": 4,
   "metadata": {},
   "outputs": [],
   "source": [
    "a = Valor(10)\n",
    "b = Valor(5)"
   ]
  },
  {
   "cell_type": "code",
   "execution_count": 5,
   "metadata": {},
   "outputs": [],
   "source": [
    "#print(a + b)"
   ]
  },
  {
   "cell_type": "code",
   "execution_count": 6,
   "metadata": {},
   "outputs": [],
   "source": [
    "#print(a * b)"
   ]
  },
  {
   "cell_type": "markdown",
   "metadata": {},
   "source": [
    "Ué&#x2026; porque não conseguimos? Não conseguimos pois o Python (ainda) não é vidente. Ele lá vai saber como adicionar ou multiplicar algo que você criou? Pra você parece óbvio que valores podem ser adicionados ou multiplicados, mas para o Python ele nem sabe o que significa a palavra `Valor`&#x2026;\n",
    "\n",
    "Como sempre, temos que contar para o programa o que queremos que aconteça quando usarmos os operadores `+` e `*`. Quem faz isso são os dunders `__add__` e `__mul__`.\n",
    "\n"
   ]
  },
  {
   "cell_type": "code",
   "execution_count": 7,
   "metadata": {},
   "outputs": [],
   "source": [
    "class Valor:\n",
    "    def __init__(self, data):\n",
    "        self.data = data\n",
    "\n",
    "    def __repr__(self):\n",
    "        return f\"Valor(data={self.data})\"\n",
    "\n",
    "    def __add__(self, outro_valor):\n",
    "        saida = Valor(self.data + outro_valor.data)\n",
    "        return saida\n",
    "\n",
    "    def __mul__(self, outro_valor):\n",
    "        saida = Valor(self.data * outro_valor.data)\n",
    "        return saida"
   ]
  },
  {
   "cell_type": "markdown",
   "metadata": {},
   "source": [
    "Vamos testar!\n",
    "\n"
   ]
  },
  {
   "cell_type": "code",
   "execution_count": 8,
   "metadata": {},
   "outputs": [
    {
     "name": "stdout",
     "output_type": "stream",
     "text": [
      "\n",
      "Valor(data=15)\n",
      "\n",
      "Valor(data=50)\n"
     ]
    }
   ],
   "source": [
    "a = Valor(10)\n",
    "b = Valor(5)\n",
    "\n",
    "print()\n",
    "print(a +b)\n",
    "print()\n",
    "print(a*b)"
   ]
  },
  {
   "cell_type": "markdown",
   "metadata": {},
   "source": [
    "### Registrando os progenitores\n",
    "\n"
   ]
  },
  {
   "cell_type": "markdown",
   "metadata": {},
   "source": [
    "Nosso objetivo é construir um grafo computacional. Em um grafo computacional, um certo vértice pode ter um ou mais vértices progenitores (são seus pais/mães). Nós não podemos perder essa informação quando formos construir um grafo, então precisamos incluir essa informação na nossa classe.\n",
    "\n"
   ]
  },
  {
   "cell_type": "code",
   "execution_count": 9,
   "metadata": {},
   "outputs": [],
   "source": [
    "class Valor:\n",
    "    def __init__(self, data, progenitor=()):\n",
    "        self.data = data\n",
    "        self.progenitor = progenitor\n",
    "\n",
    "    def __repr__(self):\n",
    "        return f\"Valor(data={self.data})\"\n",
    "\n",
    "    def __add__(self, outro_valor):\n",
    "        data = self.data + outro_valor.data\n",
    "        progenitor = (self, outro_valor)\n",
    "        saida = Valor(data, progenitor)\n",
    "        return saida\n",
    "\n",
    "    def __mul__(self, outro_valor):\n",
    "        data = self.data * outro_valor.data\n",
    "        progenitor = (self, outro_valor)\n",
    "        saida = Valor(data, progenitor)\n",
    "        return saida"
   ]
  },
  {
   "cell_type": "markdown",
   "metadata": {},
   "source": [
    "Vamos testar!\n",
    "\n"
   ]
  },
  {
   "cell_type": "code",
   "execution_count": 10,
   "metadata": {},
   "outputs": [
    {
     "name": "stdout",
     "output_type": "stream",
     "text": [
      "10\n",
      "()\n",
      "\n",
      "Valor(data=15)\n",
      "(Valor(data=10), Valor(data=5))\n",
      "\n",
      "Valor(data=150)\n",
      "(Valor(data=15), Valor(data=10))\n"
     ]
    }
   ],
   "source": [
    "a = Valor(10)\n",
    "b = Valor(5)\n",
    "\n",
    "print(a.data)\n",
    "print(a.progenitor)\n",
    "print()\n",
    "\n",
    "c = a+b\n",
    "\n",
    "d = c*a\n",
    "\n",
    "print(c)\n",
    "print(c.progenitor)\n",
    "print()\n",
    "print(d)\n",
    "print(d.progenitor)"
   ]
  },
  {
   "cell_type": "markdown",
   "metadata": {},
   "source": [
    "### Registrando o operador mãe\n",
    "\n"
   ]
  },
  {
   "cell_type": "markdown",
   "metadata": {},
   "source": [
    "Em um grafo computacional, um vértice pode ter um operador mãe. O operador mãe é o operador que foi usado para gerar o vértice.\n",
    "\n"
   ]
  },
  {
   "cell_type": "code",
   "execution_count": 11,
   "metadata": {},
   "outputs": [],
   "source": [
    "class Valor:\n",
    "    def __init__(self, data, progenitor=(), operador_mae=\"\"):\n",
    "        self.data = data\n",
    "        self.progenitor = progenitor\n",
    "        self.operador_mae = operador_mae\n",
    "\n",
    "    def __repr__(self):\n",
    "        return f\"Valor(data={self.data})\"\n",
    "\n",
    "    def __add__(self, outro_valor):\n",
    "        data = self.data + outro_valor.data\n",
    "        progenitor = (self, outro_valor)\n",
    "        operador_mae = \"+\"\n",
    "        saida = Valor(data, progenitor, operador_mae)\n",
    "        return saida\n",
    "\n",
    "    def __mul__(self, outro_valor):\n",
    "        data = self.data * outro_valor.data\n",
    "        progenitor = (self, outro_valor)\n",
    "        operador_mae = \"*\"\n",
    "        saida = Valor(data, progenitor, operador_mae)\n",
    "        return saida"
   ]
  },
  {
   "cell_type": "markdown",
   "metadata": {},
   "source": [
    "Vamos testar!\n",
    "\n"
   ]
  },
  {
   "cell_type": "code",
   "execution_count": 12,
   "metadata": {},
   "outputs": [
    {
     "name": "stdout",
     "output_type": "stream",
     "text": [
      "10\n",
      "()\n",
      "\n",
      "Valor(data=15)\n",
      "(Valor(data=10), Valor(data=5))\n",
      "+\n",
      "\n",
      "\n"
     ]
    }
   ],
   "source": [
    "a = Valor(10)\n",
    "b = Valor(5)\n",
    "\n",
    "print(a.data)\n",
    "print(a.progenitor)\n",
    "print()\n",
    "\n",
    "c = a+b\n",
    "\n",
    "d = c*a\n",
    "\n",
    "print(c)\n",
    "print(c.progenitor)\n",
    "print(c.operador_mae)\n",
    "print()\n",
    "print(a.operador_mae)"
   ]
  },
  {
   "cell_type": "markdown",
   "metadata": {},
   "source": [
    "### Plotando o primeiro grafo\n",
    "\n"
   ]
  },
  {
   "cell_type": "markdown",
   "metadata": {},
   "source": [
    "Vamos plotar nosso primeiro grafo!\n",
    "\n"
   ]
  },
  {
   "cell_type": "code",
   "execution_count": 25,
   "metadata": {},
   "outputs": [
    {
     "data": {
      "image/svg+xml": [
       "<?xml version=\"1.0\" encoding=\"UTF-8\" standalone=\"no\"?>\n",
       "<!DOCTYPE svg PUBLIC \"-//W3C//DTD SVG 1.1//EN\"\n",
       " \"http://www.w3.org/Graphics/SVG/1.1/DTD/svg11.dtd\">\n",
       "<!-- Generated by graphviz version 6.0.2 (20221011.1828)\n",
       " -->\n",
       "<!-- Pages: 1 -->\n",
       "<svg width=\"575pt\" height=\"127pt\"\n",
       " viewBox=\"0.00 0.00 575.00 127.00\" xmlns=\"http://www.w3.org/2000/svg\" xmlns:xlink=\"http://www.w3.org/1999/xlink\">\n",
       "<g id=\"graph0\" class=\"graph\" transform=\"scale(1 1) rotate(0) translate(4 123)\">\n",
       "<polygon fill=\"white\" stroke=\"none\" points=\"-4,4 -4,-123 571,-123 571,4 -4,4\"/>\n",
       "<!-- 2123398324176 -->\n",
       "<g id=\"node1\" class=\"node\">\n",
       "<title>2123398324176</title>\n",
       "<polygon fill=\"none\" stroke=\"black\" points=\"233,-27.5 233,-63.5 339,-63.5 339,-27.5 233,-27.5\"/>\n",
       "<text text-anchor=\"middle\" x=\"243\" y=\"-41.8\" font-family=\"Times New Roman,serif\" font-size=\"14.00\"> </text>\n",
       "<polyline fill=\"none\" stroke=\"black\" points=\"253,-27.5 253,-63.5\"/>\n",
       "<text text-anchor=\"middle\" x=\"296\" y=\"-41.8\" font-family=\"Times New Roman,serif\" font-size=\"14.00\">data &#45;6.0000</text>\n",
       "</g>\n",
       "<!-- 2123398322448+ -->\n",
       "<g id=\"node5\" class=\"node\">\n",
       "<title>2123398322448+</title>\n",
       "<ellipse fill=\"none\" stroke=\"black\" cx=\"403\" cy=\"-72.5\" rx=\"27\" ry=\"18\"/>\n",
       "<text text-anchor=\"middle\" x=\"403\" y=\"-68.8\" font-family=\"Times New Roman,serif\" font-size=\"14.00\">+</text>\n",
       "</g>\n",
       "<!-- 2123398324176&#45;&gt;2123398322448+ -->\n",
       "<g id=\"edge5\" class=\"edge\">\n",
       "<title>2123398324176&#45;&gt;2123398322448+</title>\n",
       "<path fill=\"none\" stroke=\"black\" d=\"M339.12,-57.74C348.68,-59.98 358.45,-62.28 367.35,-64.36\"/>\n",
       "<polygon fill=\"black\" stroke=\"black\" points=\"366.79,-67.83 377.33,-66.71 368.39,-61.01 366.79,-67.83\"/>\n",
       "</g>\n",
       "<!-- 2123398324176* -->\n",
       "<g id=\"node2\" class=\"node\">\n",
       "<title>2123398324176*</title>\n",
       "<ellipse fill=\"none\" stroke=\"black\" cx=\"169\" cy=\"-45.5\" rx=\"27\" ry=\"18\"/>\n",
       "<text text-anchor=\"middle\" x=\"169\" y=\"-41.8\" font-family=\"Times New Roman,serif\" font-size=\"14.00\">*</text>\n",
       "</g>\n",
       "<!-- 2123398324176*&#45;&gt;2123398324176 -->\n",
       "<g id=\"edge1\" class=\"edge\">\n",
       "<title>2123398324176*&#45;&gt;2123398324176</title>\n",
       "<path fill=\"none\" stroke=\"black\" d=\"M196.1,-45.5C204.08,-45.5 213.22,-45.5 222.54,-45.5\"/>\n",
       "<polygon fill=\"black\" stroke=\"black\" points=\"222.68,-49 232.68,-45.5 222.68,-42 222.68,-49\"/>\n",
       "</g>\n",
       "<!-- 2123398732000 -->\n",
       "<g id=\"node3\" class=\"node\">\n",
       "<title>2123398732000</title>\n",
       "<polygon fill=\"none\" stroke=\"black\" points=\"2.5,-55.5 2.5,-91.5 103.5,-91.5 103.5,-55.5 2.5,-55.5\"/>\n",
       "<text text-anchor=\"middle\" x=\"12.5\" y=\"-69.8\" font-family=\"Times New Roman,serif\" font-size=\"14.00\"> </text>\n",
       "<polyline fill=\"none\" stroke=\"black\" points=\"22.5,-55.5 22.5,-91.5\"/>\n",
       "<text text-anchor=\"middle\" x=\"63\" y=\"-69.8\" font-family=\"Times New Roman,serif\" font-size=\"14.00\">data 2.0000</text>\n",
       "</g>\n",
       "<!-- 2123398732000&#45;&gt;2123398324176* -->\n",
       "<g id=\"edge6\" class=\"edge\">\n",
       "<title>2123398732000&#45;&gt;2123398324176*</title>\n",
       "<path fill=\"none\" stroke=\"black\" d=\"M103.67,-61.3C113.81,-58.81 124.25,-56.24 133.71,-53.92\"/>\n",
       "<polygon fill=\"black\" stroke=\"black\" points=\"134.63,-57.3 143.51,-51.51 132.97,-50.5 134.63,-57.3\"/>\n",
       "</g>\n",
       "<!-- 2123398322448 -->\n",
       "<g id=\"node4\" class=\"node\">\n",
       "<title>2123398322448</title>\n",
       "<polygon fill=\"none\" stroke=\"black\" points=\"466,-54.5 466,-90.5 567,-90.5 567,-54.5 466,-54.5\"/>\n",
       "<text text-anchor=\"middle\" x=\"476\" y=\"-68.8\" font-family=\"Times New Roman,serif\" font-size=\"14.00\"> </text>\n",
       "<polyline fill=\"none\" stroke=\"black\" points=\"486,-54.5 486,-90.5\"/>\n",
       "<text text-anchor=\"middle\" x=\"526.5\" y=\"-68.8\" font-family=\"Times New Roman,serif\" font-size=\"14.00\">data 4.0000</text>\n",
       "</g>\n",
       "<!-- 2123398322448+&#45;&gt;2123398322448 -->\n",
       "<g id=\"edge2\" class=\"edge\">\n",
       "<title>2123398322448+&#45;&gt;2123398322448</title>\n",
       "<path fill=\"none\" stroke=\"black\" d=\"M430.14,-72.5C437.91,-72.5 446.75,-72.5 455.73,-72.5\"/>\n",
       "<polygon fill=\"black\" stroke=\"black\" points=\"455.88,-76 465.88,-72.5 455.88,-69 455.88,-76\"/>\n",
       "</g>\n",
       "<!-- 2123398733200 -->\n",
       "<g id=\"node6\" class=\"node\">\n",
       "<title>2123398733200</title>\n",
       "<polygon fill=\"none\" stroke=\"black\" points=\"0,-0.5 0,-36.5 106,-36.5 106,-0.5 0,-0.5\"/>\n",
       "<text text-anchor=\"middle\" x=\"10\" y=\"-14.8\" font-family=\"Times New Roman,serif\" font-size=\"14.00\"> </text>\n",
       "<polyline fill=\"none\" stroke=\"black\" points=\"20,-0.5 20,-36.5\"/>\n",
       "<text text-anchor=\"middle\" x=\"63\" y=\"-14.8\" font-family=\"Times New Roman,serif\" font-size=\"14.00\">data &#45;3.0000</text>\n",
       "</g>\n",
       "<!-- 2123398733200&#45;&gt;2123398324176* -->\n",
       "<g id=\"edge4\" class=\"edge\">\n",
       "<title>2123398733200&#45;&gt;2123398324176*</title>\n",
       "<path fill=\"none\" stroke=\"black\" d=\"M106.33,-30.89C115.48,-33.06 124.8,-35.27 133.33,-37.29\"/>\n",
       "<polygon fill=\"black\" stroke=\"black\" points=\"132.73,-40.74 143.27,-39.64 134.34,-33.93 132.73,-40.74\"/>\n",
       "</g>\n",
       "<!-- 2123398732240 -->\n",
       "<g id=\"node7\" class=\"node\">\n",
       "<title>2123398732240</title>\n",
       "<polygon fill=\"none\" stroke=\"black\" points=\"232,-82.5 232,-118.5 340,-118.5 340,-82.5 232,-82.5\"/>\n",
       "<text text-anchor=\"middle\" x=\"242\" y=\"-96.8\" font-family=\"Times New Roman,serif\" font-size=\"14.00\"> </text>\n",
       "<polyline fill=\"none\" stroke=\"black\" points=\"252,-82.5 252,-118.5\"/>\n",
       "<text text-anchor=\"middle\" x=\"296\" y=\"-96.8\" font-family=\"Times New Roman,serif\" font-size=\"14.00\">data 10.0000</text>\n",
       "</g>\n",
       "<!-- 2123398732240&#45;&gt;2123398322448+ -->\n",
       "<g id=\"edge3\" class=\"edge\">\n",
       "<title>2123398732240&#45;&gt;2123398322448+</title>\n",
       "<path fill=\"none\" stroke=\"black\" d=\"M340.12,-87.57C349.51,-85.28 359.06,-82.95 367.76,-80.84\"/>\n",
       "<polygon fill=\"black\" stroke=\"black\" points=\"368.62,-84.23 377.51,-78.46 366.97,-77.43 368.62,-84.23\"/>\n",
       "</g>\n",
       "</g>\n",
       "</svg>\n"
      ],
      "text/plain": [
       "<graphviz.graphs.Digraph at 0x1ee64671880>"
      ]
     },
     "execution_count": 25,
     "metadata": {},
     "output_type": "execute_result"
    }
   ],
   "source": [
    "a = Valor(2)\n",
    "b = Valor(-3)\n",
    "c = Valor(10)\n",
    "\n",
    "d = a * b\n",
    "e = d + c\n",
    "\n",
    "plota_grafo(e)"
   ]
  },
  {
   "cell_type": "markdown",
   "metadata": {},
   "source": [
    "### Registrando o rótulo\n",
    "\n"
   ]
  },
  {
   "cell_type": "markdown",
   "metadata": {},
   "source": [
    "Nosso grafo seria mais legível se tivéssemos rótulos indicando o que é cada vértice. Vamos incluir essa informação na nossa classe.\n",
    "\n"
   ]
  },
  {
   "cell_type": "code",
   "execution_count": 14,
   "metadata": {},
   "outputs": [],
   "source": [
    "class Valor:\n",
    "    def __init__(self, data, progenitor=(), operador_mae=\"\", rotulo=\"\"):\n",
    "        self.data = data\n",
    "        self.progenitor = progenitor\n",
    "        self.operador_mae = operador_mae\n",
    "        self.rotulo = rotulo\n",
    "\n",
    "    def __repr__(self):\n",
    "        return f\"Valor(data={self.data})\"\n",
    "\n",
    "    def __add__(self, outro_valor):\n",
    "        data = self.data + outro_valor.data\n",
    "        progenitor = (self, outro_valor)\n",
    "        operador_mae = \"+\"\n",
    "        saida = Valor(data, progenitor, operador_mae)\n",
    "        return saida\n",
    "\n",
    "    def __mul__(self, outro_valor):\n",
    "        data = self.data * outro_valor.data\n",
    "        progenitor = (self, outro_valor)\n",
    "        operador_mae = \"*\"\n",
    "        saida = Valor(data, progenitor, operador_mae)\n",
    "        return saida"
   ]
  },
  {
   "cell_type": "markdown",
   "metadata": {},
   "source": [
    "Vamos testar!\n",
    "\n"
   ]
  },
  {
   "cell_type": "code",
   "execution_count": 24,
   "metadata": {},
   "outputs": [
    {
     "data": {
      "image/svg+xml": [
       "<?xml version=\"1.0\" encoding=\"UTF-8\" standalone=\"no\"?>\n",
       "<!DOCTYPE svg PUBLIC \"-//W3C//DTD SVG 1.1//EN\"\n",
       " \"http://www.w3.org/Graphics/SVG/1.1/DTD/svg11.dtd\">\n",
       "<!-- Generated by graphviz version 6.0.2 (20221011.1828)\n",
       " -->\n",
       "<!-- Pages: 1 -->\n",
       "<svg width=\"585pt\" height=\"127pt\"\n",
       " viewBox=\"0.00 0.00 585.00 127.00\" xmlns=\"http://www.w3.org/2000/svg\" xmlns:xlink=\"http://www.w3.org/1999/xlink\">\n",
       "<g id=\"graph0\" class=\"graph\" transform=\"scale(1 1) rotate(0) translate(4 123)\">\n",
       "<polygon fill=\"white\" stroke=\"none\" points=\"-4,4 -4,-123 581,-123 581,4 -4,4\"/>\n",
       "<!-- 2123398730752 -->\n",
       "<g id=\"node1\" class=\"node\">\n",
       "<title>2123398730752</title>\n",
       "<polygon fill=\"none\" stroke=\"black\" points=\"236.5,-27.5 236.5,-63.5 346.5,-63.5 346.5,-27.5 236.5,-27.5\"/>\n",
       "<text text-anchor=\"middle\" x=\"248.5\" y=\"-41.8\" font-family=\"Times New Roman,serif\" font-size=\"14.00\">d</text>\n",
       "<polyline fill=\"none\" stroke=\"black\" points=\"260.5,-27.5 260.5,-63.5\"/>\n",
       "<text text-anchor=\"middle\" x=\"303.5\" y=\"-41.8\" font-family=\"Times New Roman,serif\" font-size=\"14.00\">data &#45;6.0000</text>\n",
       "</g>\n",
       "<!-- 2123398730800+ -->\n",
       "<g id=\"node4\" class=\"node\">\n",
       "<title>2123398730800+</title>\n",
       "<ellipse fill=\"none\" stroke=\"black\" cx=\"410\" cy=\"-72.5\" rx=\"27\" ry=\"18\"/>\n",
       "<text text-anchor=\"middle\" x=\"410\" y=\"-68.8\" font-family=\"Times New Roman,serif\" font-size=\"14.00\">+</text>\n",
       "</g>\n",
       "<!-- 2123398730752&#45;&gt;2123398730800+ -->\n",
       "<g id=\"edge6\" class=\"edge\">\n",
       "<title>2123398730752&#45;&gt;2123398730800+</title>\n",
       "<path fill=\"none\" stroke=\"black\" d=\"M346.66,-58.05C356.14,-60.25 365.77,-62.48 374.53,-64.51\"/>\n",
       "<polygon fill=\"black\" stroke=\"black\" points=\"373.82,-67.94 384.35,-66.79 375.4,-61.12 373.82,-67.94\"/>\n",
       "</g>\n",
       "<!-- 2123398730752* -->\n",
       "<g id=\"node2\" class=\"node\">\n",
       "<title>2123398730752*</title>\n",
       "<ellipse fill=\"none\" stroke=\"black\" cx=\"173\" cy=\"-45.5\" rx=\"27\" ry=\"18\"/>\n",
       "<text text-anchor=\"middle\" x=\"173\" y=\"-41.8\" font-family=\"Times New Roman,serif\" font-size=\"14.00\">*</text>\n",
       "</g>\n",
       "<!-- 2123398730752*&#45;&gt;2123398730752 -->\n",
       "<g id=\"edge1\" class=\"edge\">\n",
       "<title>2123398730752*&#45;&gt;2123398730752</title>\n",
       "<path fill=\"none\" stroke=\"black\" d=\"M200.14,-45.5C208.03,-45.5 217.05,-45.5 226.28,-45.5\"/>\n",
       "<polygon fill=\"black\" stroke=\"black\" points=\"226.32,-49 236.32,-45.5 226.32,-42 226.32,-49\"/>\n",
       "</g>\n",
       "<!-- 2123398730800 -->\n",
       "<g id=\"node3\" class=\"node\">\n",
       "<title>2123398730800</title>\n",
       "<polygon fill=\"none\" stroke=\"black\" points=\"473,-54.5 473,-90.5 577,-90.5 577,-54.5 473,-54.5\"/>\n",
       "<text text-anchor=\"middle\" x=\"484.5\" y=\"-68.8\" font-family=\"Times New Roman,serif\" font-size=\"14.00\">e</text>\n",
       "<polyline fill=\"none\" stroke=\"black\" points=\"496,-54.5 496,-90.5\"/>\n",
       "<text text-anchor=\"middle\" x=\"536.5\" y=\"-68.8\" font-family=\"Times New Roman,serif\" font-size=\"14.00\">data 4.0000</text>\n",
       "</g>\n",
       "<!-- 2123398730800+&#45;&gt;2123398730800 -->\n",
       "<g id=\"edge2\" class=\"edge\">\n",
       "<title>2123398730800+&#45;&gt;2123398730800</title>\n",
       "<path fill=\"none\" stroke=\"black\" d=\"M437.21,-72.5C444.88,-72.5 453.62,-72.5 462.51,-72.5\"/>\n",
       "<polygon fill=\"black\" stroke=\"black\" points=\"462.58,-76 472.58,-72.5 462.58,-69 462.58,-76\"/>\n",
       "</g>\n",
       "<!-- 2123398733536 -->\n",
       "<g id=\"node5\" class=\"node\">\n",
       "<title>2123398733536</title>\n",
       "<polygon fill=\"none\" stroke=\"black\" points=\"0,-55.5 0,-91.5 110,-91.5 110,-55.5 0,-55.5\"/>\n",
       "<text text-anchor=\"middle\" x=\"12\" y=\"-69.8\" font-family=\"Times New Roman,serif\" font-size=\"14.00\">b</text>\n",
       "<polyline fill=\"none\" stroke=\"black\" points=\"24,-55.5 24,-91.5\"/>\n",
       "<text text-anchor=\"middle\" x=\"67\" y=\"-69.8\" font-family=\"Times New Roman,serif\" font-size=\"14.00\">data &#45;3.0000</text>\n",
       "</g>\n",
       "<!-- 2123398733536&#45;&gt;2123398730752* -->\n",
       "<g id=\"edge5\" class=\"edge\">\n",
       "<title>2123398733536&#45;&gt;2123398730752*</title>\n",
       "<path fill=\"none\" stroke=\"black\" d=\"M110.26,-60.4C119.49,-58.18 128.84,-55.92 137.37,-53.86\"/>\n",
       "<polygon fill=\"black\" stroke=\"black\" points=\"138.42,-57.21 147.32,-51.46 136.78,-50.4 138.42,-57.21\"/>\n",
       "</g>\n",
       "<!-- 2123398730512 -->\n",
       "<g id=\"node6\" class=\"node\">\n",
       "<title>2123398730512</title>\n",
       "<polygon fill=\"none\" stroke=\"black\" points=\"236,-82.5 236,-118.5 347,-118.5 347,-82.5 236,-82.5\"/>\n",
       "<text text-anchor=\"middle\" x=\"247.5\" y=\"-96.8\" font-family=\"Times New Roman,serif\" font-size=\"14.00\">c</text>\n",
       "<polyline fill=\"none\" stroke=\"black\" points=\"259,-82.5 259,-118.5\"/>\n",
       "<text text-anchor=\"middle\" x=\"303\" y=\"-96.8\" font-family=\"Times New Roman,serif\" font-size=\"14.00\">data 10.0000</text>\n",
       "</g>\n",
       "<!-- 2123398730512&#45;&gt;2123398730800+ -->\n",
       "<g id=\"edge3\" class=\"edge\">\n",
       "<title>2123398730512&#45;&gt;2123398730800+</title>\n",
       "<path fill=\"none\" stroke=\"black\" d=\"M347.34,-87.32C356.57,-85.1 365.91,-82.86 374.44,-80.81\"/>\n",
       "<polygon fill=\"black\" stroke=\"black\" points=\"375.47,-84.16 384.38,-78.42 373.84,-77.35 375.47,-84.16\"/>\n",
       "</g>\n",
       "<!-- 2123398731232 -->\n",
       "<g id=\"node7\" class=\"node\">\n",
       "<title>2123398731232</title>\n",
       "<polygon fill=\"none\" stroke=\"black\" points=\"3,-0.5 3,-36.5 107,-36.5 107,-0.5 3,-0.5\"/>\n",
       "<text text-anchor=\"middle\" x=\"14.5\" y=\"-14.8\" font-family=\"Times New Roman,serif\" font-size=\"14.00\">a</text>\n",
       "<polyline fill=\"none\" stroke=\"black\" points=\"26,-0.5 26,-36.5\"/>\n",
       "<text text-anchor=\"middle\" x=\"66.5\" y=\"-14.8\" font-family=\"Times New Roman,serif\" font-size=\"14.00\">data 2.0000</text>\n",
       "</g>\n",
       "<!-- 2123398731232&#45;&gt;2123398730752* -->\n",
       "<g id=\"edge4\" class=\"edge\">\n",
       "<title>2123398731232&#45;&gt;2123398730752*</title>\n",
       "<path fill=\"none\" stroke=\"black\" d=\"M107.22,-30.42C117.47,-32.81 128.01,-35.26 137.53,-37.48\"/>\n",
       "<polygon fill=\"black\" stroke=\"black\" points=\"136.86,-40.91 147.39,-39.77 138.45,-34.1 136.86,-40.91\"/>\n",
       "</g>\n",
       "</g>\n",
       "</svg>\n"
      ],
      "text/plain": [
       "<graphviz.graphs.Digraph at 0x1ee646d5790>"
      ]
     },
     "execution_count": 24,
     "metadata": {},
     "output_type": "execute_result"
    }
   ],
   "source": [
    "a = Valor(2, rotulo=\"a\")\n",
    "b = Valor(-3, rotulo=\"b\")\n",
    "c = Valor(10, rotulo=\"c\")\n",
    "\n",
    "d = a * b\n",
    "e = d + c\n",
    "\n",
    "d.rotulo = \"d\"\n",
    "e.rotulo = \"e\"\n",
    "\n",
    "plota_grafo(e)"
   ]
  },
  {
   "cell_type": "markdown",
   "metadata": {},
   "source": [
    "### Refazendo o grafo que fizemos na aula anterior\n",
    "\n"
   ]
  },
  {
   "cell_type": "markdown",
   "metadata": {},
   "source": [
    "Na aula anterior nós fizemos um grafo computacional para aprender como funciona o backpropagation. Vamos refazer ele aqui!\n",
    "\n"
   ]
  },
  {
   "cell_type": "code",
   "execution_count": 23,
   "metadata": {},
   "outputs": [
    {
     "data": {
      "image/svg+xml": [
       "<?xml version=\"1.0\" encoding=\"UTF-8\" standalone=\"no\"?>\n",
       "<!DOCTYPE svg PUBLIC \"-//W3C//DTD SVG 1.1//EN\"\n",
       " \"http://www.w3.org/Graphics/SVG/1.1/DTD/svg11.dtd\">\n",
       "<!-- Generated by graphviz version 6.0.2 (20221011.1828)\n",
       " -->\n",
       "<!-- Pages: 1 -->\n",
       "<svg width=\"1117pt\" height=\"211pt\"\n",
       " viewBox=\"0.00 0.00 1117.00 211.00\" xmlns=\"http://www.w3.org/2000/svg\" xmlns:xlink=\"http://www.w3.org/1999/xlink\">\n",
       "<g id=\"graph0\" class=\"graph\" transform=\"scale(1 1) rotate(0) translate(4 207)\">\n",
       "<polygon fill=\"white\" stroke=\"none\" points=\"-4,4 -4,-207 1113,-207 1113,4 -4,4\"/>\n",
       "<!-- 2123398747136 -->\n",
       "<g id=\"node1\" class=\"node\">\n",
       "<title>2123398747136</title>\n",
       "<polygon fill=\"none\" stroke=\"black\" points=\"0,-166.5 0,-202.5 121,-202.5 121,-166.5 0,-166.5\"/>\n",
       "<text text-anchor=\"middle\" x=\"16.5\" y=\"-180.8\" font-family=\"Times New Roman,serif\" font-size=\"14.00\">w1</text>\n",
       "<polyline fill=\"none\" stroke=\"black\" points=\"33,-166.5 33,-202.5\"/>\n",
       "<text text-anchor=\"middle\" x=\"77\" y=\"-180.8\" font-family=\"Times New Roman,serif\" font-size=\"14.00\">data 10.0000</text>\n",
       "</g>\n",
       "<!-- 2123398749920* -->\n",
       "<g id=\"node7\" class=\"node\">\n",
       "<title>2123398749920*</title>\n",
       "<ellipse fill=\"none\" stroke=\"black\" cx=\"184\" cy=\"-129.5\" rx=\"27\" ry=\"18\"/>\n",
       "<text text-anchor=\"middle\" x=\"184\" y=\"-125.8\" font-family=\"Times New Roman,serif\" font-size=\"14.00\">*</text>\n",
       "</g>\n",
       "<!-- 2123398747136&#45;&gt;2123398749920* -->\n",
       "<g id=\"edge7\" class=\"edge\">\n",
       "<title>2123398747136&#45;&gt;2123398749920*</title>\n",
       "<path fill=\"none\" stroke=\"black\" d=\"M101.28,-166.49C117.79,-159.02 136.65,-150.48 152.09,-143.49\"/>\n",
       "<polygon fill=\"black\" stroke=\"black\" points=\"153.54,-146.68 161.21,-139.36 150.65,-140.3 153.54,-146.68\"/>\n",
       "</g>\n",
       "<!-- 2123398749776 -->\n",
       "<g id=\"node2\" class=\"node\">\n",
       "<title>2123398749776</title>\n",
       "<polygon fill=\"none\" stroke=\"black\" points=\"497,-83.5 497,-119.5 615,-119.5 615,-83.5 497,-83.5\"/>\n",
       "<text text-anchor=\"middle\" x=\"508.5\" y=\"-97.8\" font-family=\"Times New Roman,serif\" font-size=\"14.00\">n</text>\n",
       "<polyline fill=\"none\" stroke=\"black\" points=\"520,-83.5 520,-119.5\"/>\n",
       "<text text-anchor=\"middle\" x=\"567.5\" y=\"-97.8\" font-family=\"Times New Roman,serif\" font-size=\"14.00\">data 720.0000</text>\n",
       "</g>\n",
       "<!-- 2123398746464+ -->\n",
       "<g id=\"node13\" class=\"node\">\n",
       "<title>2123398746464+</title>\n",
       "<ellipse fill=\"none\" stroke=\"black\" cx=\"678\" cy=\"-73.5\" rx=\"27\" ry=\"18\"/>\n",
       "<text text-anchor=\"middle\" x=\"678\" y=\"-69.8\" font-family=\"Times New Roman,serif\" font-size=\"14.00\">+</text>\n",
       "</g>\n",
       "<!-- 2123398749776&#45;&gt;2123398746464+ -->\n",
       "<g id=\"edge13\" class=\"edge\">\n",
       "<title>2123398749776&#45;&gt;2123398746464+</title>\n",
       "<path fill=\"none\" stroke=\"black\" d=\"M615.24,-87.91C624.5,-85.75 633.81,-83.58 642.29,-81.6\"/>\n",
       "<polygon fill=\"black\" stroke=\"black\" points=\"643.23,-84.97 652.17,-79.29 641.64,-78.16 643.23,-84.97\"/>\n",
       "</g>\n",
       "<!-- 2123398749776+ -->\n",
       "<g id=\"node3\" class=\"node\">\n",
       "<title>2123398749776+</title>\n",
       "<ellipse fill=\"none\" stroke=\"black\" cx=\"434\" cy=\"-101.5\" rx=\"27\" ry=\"18\"/>\n",
       "<text text-anchor=\"middle\" x=\"434\" y=\"-97.8\" font-family=\"Times New Roman,serif\" font-size=\"14.00\">+</text>\n",
       "</g>\n",
       "<!-- 2123398749776+&#45;&gt;2123398749776 -->\n",
       "<g id=\"edge1\" class=\"edge\">\n",
       "<title>2123398749776+&#45;&gt;2123398749776</title>\n",
       "<path fill=\"none\" stroke=\"black\" d=\"M461.04,-101.5C468.83,-101.5 477.77,-101.5 486.96,-101.5\"/>\n",
       "<polygon fill=\"black\" stroke=\"black\" points=\"487,-105 497,-101.5 487,-98 487,-105\"/>\n",
       "</g>\n",
       "<!-- 2123398749296 -->\n",
       "<g id=\"node4\" class=\"node\">\n",
       "<title>2123398749296</title>\n",
       "<polygon fill=\"none\" stroke=\"black\" points=\"1.5,-56.5 1.5,-92.5 119.5,-92.5 119.5,-56.5 1.5,-56.5\"/>\n",
       "<text text-anchor=\"middle\" x=\"16.5\" y=\"-70.8\" font-family=\"Times New Roman,serif\" font-size=\"14.00\">x2</text>\n",
       "<polyline fill=\"none\" stroke=\"black\" points=\"31.5,-56.5 31.5,-92.5\"/>\n",
       "<text text-anchor=\"middle\" x=\"75.5\" y=\"-70.8\" font-family=\"Times New Roman,serif\" font-size=\"14.00\">data 24.0000</text>\n",
       "</g>\n",
       "<!-- 2123398747952* -->\n",
       "<g id=\"node9\" class=\"node\">\n",
       "<title>2123398747952*</title>\n",
       "<ellipse fill=\"none\" stroke=\"black\" cx=\"184\" cy=\"-74.5\" rx=\"27\" ry=\"18\"/>\n",
       "<text text-anchor=\"middle\" x=\"184\" y=\"-70.8\" font-family=\"Times New Roman,serif\" font-size=\"14.00\">*</text>\n",
       "</g>\n",
       "<!-- 2123398749296&#45;&gt;2123398747952* -->\n",
       "<g id=\"edge12\" class=\"edge\">\n",
       "<title>2123398749296&#45;&gt;2123398747952*</title>\n",
       "<path fill=\"none\" stroke=\"black\" d=\"M119.76,-74.5C128.92,-74.5 138.16,-74.5 146.64,-74.5\"/>\n",
       "<polygon fill=\"black\" stroke=\"black\" points=\"146.91,-78 156.91,-74.5 146.91,-71 146.91,-78\"/>\n",
       "</g>\n",
       "<!-- 2123398748288 -->\n",
       "<g id=\"node5\" class=\"node\">\n",
       "<title>2123398748288</title>\n",
       "<polygon fill=\"none\" stroke=\"black\" points=\"1.5,-111.5 1.5,-147.5 119.5,-147.5 119.5,-111.5 1.5,-111.5\"/>\n",
       "<text text-anchor=\"middle\" x=\"16.5\" y=\"-125.8\" font-family=\"Times New Roman,serif\" font-size=\"14.00\">x1</text>\n",
       "<polyline fill=\"none\" stroke=\"black\" points=\"31.5,-111.5 31.5,-147.5\"/>\n",
       "<text text-anchor=\"middle\" x=\"75.5\" y=\"-125.8\" font-family=\"Times New Roman,serif\" font-size=\"14.00\">data 60.0000</text>\n",
       "</g>\n",
       "<!-- 2123398748288&#45;&gt;2123398749920* -->\n",
       "<g id=\"edge10\" class=\"edge\">\n",
       "<title>2123398748288&#45;&gt;2123398749920*</title>\n",
       "<path fill=\"none\" stroke=\"black\" d=\"M119.76,-129.5C128.92,-129.5 138.16,-129.5 146.64,-129.5\"/>\n",
       "<polygon fill=\"black\" stroke=\"black\" points=\"146.91,-133 156.91,-129.5 146.91,-126 146.91,-133\"/>\n",
       "</g>\n",
       "<!-- 2123398749920 -->\n",
       "<g id=\"node6\" class=\"node\">\n",
       "<title>2123398749920</title>\n",
       "<polygon fill=\"none\" stroke=\"black\" points=\"247,-111.5 247,-147.5 371,-147.5 371,-111.5 247,-111.5\"/>\n",
       "<text text-anchor=\"middle\" x=\"261.5\" y=\"-125.8\" font-family=\"Times New Roman,serif\" font-size=\"14.00\">s1</text>\n",
       "<polyline fill=\"none\" stroke=\"black\" points=\"276,-111.5 276,-147.5\"/>\n",
       "<text text-anchor=\"middle\" x=\"323.5\" y=\"-125.8\" font-family=\"Times New Roman,serif\" font-size=\"14.00\">data 600.0000</text>\n",
       "</g>\n",
       "<!-- 2123398749920&#45;&gt;2123398749776+ -->\n",
       "<g id=\"edge9\" class=\"edge\">\n",
       "<title>2123398749920&#45;&gt;2123398749776+</title>\n",
       "<path fill=\"none\" stroke=\"black\" d=\"M371.14,-115.58C380.48,-113.45 389.84,-111.33 398.34,-109.39\"/>\n",
       "<polygon fill=\"black\" stroke=\"black\" points=\"399.26,-112.77 408.24,-107.14 397.71,-105.94 399.26,-112.77\"/>\n",
       "</g>\n",
       "<!-- 2123398749920*&#45;&gt;2123398749920 -->\n",
       "<g id=\"edge2\" class=\"edge\">\n",
       "<title>2123398749920*&#45;&gt;2123398749920</title>\n",
       "<path fill=\"none\" stroke=\"black\" d=\"M211.09,-129.5C218.72,-129.5 227.46,-129.5 236.49,-129.5\"/>\n",
       "<polygon fill=\"black\" stroke=\"black\" points=\"236.78,-133 246.78,-129.5 236.78,-126 236.78,-133\"/>\n",
       "</g>\n",
       "<!-- 2123398747952 -->\n",
       "<g id=\"node8\" class=\"node\">\n",
       "<title>2123398747952</title>\n",
       "<polygon fill=\"none\" stroke=\"black\" points=\"247,-56.5 247,-92.5 371,-92.5 371,-56.5 247,-56.5\"/>\n",
       "<text text-anchor=\"middle\" x=\"261.5\" y=\"-70.8\" font-family=\"Times New Roman,serif\" font-size=\"14.00\">s2</text>\n",
       "<polyline fill=\"none\" stroke=\"black\" points=\"276,-56.5 276,-92.5\"/>\n",
       "<text text-anchor=\"middle\" x=\"323.5\" y=\"-70.8\" font-family=\"Times New Roman,serif\" font-size=\"14.00\">data 120.0000</text>\n",
       "</g>\n",
       "<!-- 2123398747952&#45;&gt;2123398749776+ -->\n",
       "<g id=\"edge8\" class=\"edge\">\n",
       "<title>2123398747952&#45;&gt;2123398749776+</title>\n",
       "<path fill=\"none\" stroke=\"black\" d=\"M371.14,-87.92C380.48,-89.97 389.84,-92.03 398.34,-93.89\"/>\n",
       "<polygon fill=\"black\" stroke=\"black\" points=\"397.72,-97.34 408.24,-96.06 399.22,-90.5 397.72,-97.34\"/>\n",
       "</g>\n",
       "<!-- 2123398747952*&#45;&gt;2123398747952 -->\n",
       "<g id=\"edge3\" class=\"edge\">\n",
       "<title>2123398747952*&#45;&gt;2123398747952</title>\n",
       "<path fill=\"none\" stroke=\"black\" d=\"M211.09,-74.5C218.72,-74.5 227.46,-74.5 236.49,-74.5\"/>\n",
       "<polygon fill=\"black\" stroke=\"black\" points=\"236.78,-78 246.78,-74.5 236.78,-71 236.78,-78\"/>\n",
       "</g>\n",
       "<!-- 2123398750016 -->\n",
       "<g id=\"node10\" class=\"node\">\n",
       "<title>2123398750016</title>\n",
       "<polygon fill=\"none\" stroke=\"black\" points=\"3.5,-1.5 3.5,-37.5 117.5,-37.5 117.5,-1.5 3.5,-1.5\"/>\n",
       "<text text-anchor=\"middle\" x=\"20\" y=\"-15.8\" font-family=\"Times New Roman,serif\" font-size=\"14.00\">w2</text>\n",
       "<polyline fill=\"none\" stroke=\"black\" points=\"36.5,-1.5 36.5,-37.5\"/>\n",
       "<text text-anchor=\"middle\" x=\"77\" y=\"-15.8\" font-family=\"Times New Roman,serif\" font-size=\"14.00\">data 5.0000</text>\n",
       "</g>\n",
       "<!-- 2123398750016&#45;&gt;2123398747952* -->\n",
       "<g id=\"edge14\" class=\"edge\">\n",
       "<title>2123398750016&#45;&gt;2123398747952*</title>\n",
       "<path fill=\"none\" stroke=\"black\" d=\"M101.28,-37.51C117.79,-44.98 136.65,-53.52 152.09,-60.51\"/>\n",
       "<polygon fill=\"black\" stroke=\"black\" points=\"150.65,-63.7 161.21,-64.64 153.54,-57.32 150.65,-63.7\"/>\n",
       "</g>\n",
       "<!-- 2123398749488 -->\n",
       "<g id=\"node11\" class=\"node\">\n",
       "<title>2123398749488</title>\n",
       "<polygon fill=\"none\" stroke=\"black\" points=\"743,-0.5 743,-36.5 857,-36.5 857,-0.5 743,-0.5\"/>\n",
       "<text text-anchor=\"middle\" x=\"759.5\" y=\"-14.8\" font-family=\"Times New Roman,serif\" font-size=\"14.00\">w3</text>\n",
       "<polyline fill=\"none\" stroke=\"black\" points=\"776,-0.5 776,-36.5\"/>\n",
       "<text text-anchor=\"middle\" x=\"816.5\" y=\"-14.8\" font-family=\"Times New Roman,serif\" font-size=\"14.00\">data 2.0000</text>\n",
       "</g>\n",
       "<!-- 2123398321104* -->\n",
       "<g id=\"node16\" class=\"node\">\n",
       "<title>2123398321104*</title>\n",
       "<ellipse fill=\"none\" stroke=\"black\" cx=\"922\" cy=\"-45.5\" rx=\"27\" ry=\"18\"/>\n",
       "<text text-anchor=\"middle\" x=\"922\" y=\"-41.8\" font-family=\"Times New Roman,serif\" font-size=\"14.00\">*</text>\n",
       "</g>\n",
       "<!-- 2123398749488&#45;&gt;2123398321104* -->\n",
       "<g id=\"edge6\" class=\"edge\">\n",
       "<title>2123398749488&#45;&gt;2123398321104*</title>\n",
       "<path fill=\"none\" stroke=\"black\" d=\"M857.14,-31.13C867.06,-33.36 877.13,-35.63 886.25,-37.68\"/>\n",
       "<polygon fill=\"black\" stroke=\"black\" points=\"885.56,-41.11 896.08,-39.89 887.09,-34.28 885.56,-41.11\"/>\n",
       "</g>\n",
       "<!-- 2123398746464 -->\n",
       "<g id=\"node12\" class=\"node\">\n",
       "<title>2123398746464</title>\n",
       "<polygon fill=\"none\" stroke=\"black\" points=\"741,-55.5 741,-91.5 859,-91.5 859,-55.5 741,-55.5\"/>\n",
       "<text text-anchor=\"middle\" x=\"752.5\" y=\"-69.8\" font-family=\"Times New Roman,serif\" font-size=\"14.00\">k</text>\n",
       "<polyline fill=\"none\" stroke=\"black\" points=\"764,-55.5 764,-91.5\"/>\n",
       "<text text-anchor=\"middle\" x=\"811.5\" y=\"-69.8\" font-family=\"Times New Roman,serif\" font-size=\"14.00\">data 727.0000</text>\n",
       "</g>\n",
       "<!-- 2123398746464&#45;&gt;2123398321104* -->\n",
       "<g id=\"edge11\" class=\"edge\">\n",
       "<title>2123398746464&#45;&gt;2123398321104*</title>\n",
       "<path fill=\"none\" stroke=\"black\" d=\"M859.24,-59.91C868.5,-57.75 877.81,-55.58 886.29,-53.6\"/>\n",
       "<polygon fill=\"black\" stroke=\"black\" points=\"887.23,-56.97 896.17,-51.29 885.64,-50.16 887.23,-56.97\"/>\n",
       "</g>\n",
       "<!-- 2123398746464+&#45;&gt;2123398746464 -->\n",
       "<g id=\"edge4\" class=\"edge\">\n",
       "<title>2123398746464+&#45;&gt;2123398746464</title>\n",
       "<path fill=\"none\" stroke=\"black\" d=\"M705.04,-73.5C712.83,-73.5 721.77,-73.5 730.96,-73.5\"/>\n",
       "<polygon fill=\"black\" stroke=\"black\" points=\"731,-77 741,-73.5 731,-70 731,-77\"/>\n",
       "</g>\n",
       "<!-- 2123398749056 -->\n",
       "<g id=\"node14\" class=\"node\">\n",
       "<title>2123398749056</title>\n",
       "<polygon fill=\"none\" stroke=\"black\" points=\"503.5,-28.5 503.5,-64.5 608.5,-64.5 608.5,-28.5 503.5,-28.5\"/>\n",
       "<text text-anchor=\"middle\" x=\"515.5\" y=\"-42.8\" font-family=\"Times New Roman,serif\" font-size=\"14.00\">b</text>\n",
       "<polyline fill=\"none\" stroke=\"black\" points=\"527.5,-28.5 527.5,-64.5\"/>\n",
       "<text text-anchor=\"middle\" x=\"568\" y=\"-42.8\" font-family=\"Times New Roman,serif\" font-size=\"14.00\">data 7.0000</text>\n",
       "</g>\n",
       "<!-- 2123398749056&#45;&gt;2123398746464+ -->\n",
       "<g id=\"edge15\" class=\"edge\">\n",
       "<title>2123398749056&#45;&gt;2123398746464+</title>\n",
       "<path fill=\"none\" stroke=\"black\" d=\"M608.59,-58.11C619.93,-60.66 631.67,-63.3 642.17,-65.66\"/>\n",
       "<polygon fill=\"black\" stroke=\"black\" points=\"641.66,-69.14 652.18,-67.92 643.19,-62.31 641.66,-69.14\"/>\n",
       "</g>\n",
       "<!-- 2123398321104 -->\n",
       "<g id=\"node15\" class=\"node\">\n",
       "<title>2123398321104</title>\n",
       "<polygon fill=\"none\" stroke=\"black\" points=\"985,-27.5 985,-63.5 1109,-63.5 1109,-27.5 985,-27.5\"/>\n",
       "<text text-anchor=\"middle\" x=\"996.5\" y=\"-41.8\" font-family=\"Times New Roman,serif\" font-size=\"14.00\">y</text>\n",
       "<polyline fill=\"none\" stroke=\"black\" points=\"1008,-27.5 1008,-63.5\"/>\n",
       "<text text-anchor=\"middle\" x=\"1058.5\" y=\"-41.8\" font-family=\"Times New Roman,serif\" font-size=\"14.00\">data 1454.0000</text>\n",
       "</g>\n",
       "<!-- 2123398321104*&#45;&gt;2123398321104 -->\n",
       "<g id=\"edge5\" class=\"edge\">\n",
       "<title>2123398321104*&#45;&gt;2123398321104</title>\n",
       "<path fill=\"none\" stroke=\"black\" d=\"M949.09,-45.5C956.72,-45.5 965.46,-45.5 974.49,-45.5\"/>\n",
       "<polygon fill=\"black\" stroke=\"black\" points=\"974.78,-49 984.78,-45.5 974.78,-42 974.78,-49\"/>\n",
       "</g>\n",
       "</g>\n",
       "</svg>\n"
      ],
      "text/plain": [
       "<graphviz.graphs.Digraph at 0x1ee646715b0>"
      ]
     },
     "execution_count": 23,
     "metadata": {},
     "output_type": "execute_result"
    }
   ],
   "source": [
    "## Plot dos dados do gráfico da aula de Backpropagation\n",
    "\n",
    "x1 = Valor(60, rotulo='x1')\n",
    "\n",
    "x2 = Valor(24, rotulo='x2')\n",
    "\n",
    "w1 = Valor(10, rotulo='w1')\n",
    "\n",
    "w2 = Valor(5, rotulo='w2')\n",
    "\n",
    "w3 = Valor(2, rotulo='w3')\n",
    "\n",
    "b = Valor(7, rotulo='b')\n",
    "\n",
    "s1 = x1 * w1\n",
    "\n",
    "s1.rotulo = 's1'\n",
    "\n",
    "s2 = x2 * w2\n",
    "\n",
    "s2.rotulo = 's2'\n",
    "\n",
    "n = s1 + s2\n",
    "\n",
    "n.rotulo = 'n'\n",
    "\n",
    "k = n + b\n",
    "\n",
    "k.rotulo = 'k'\n",
    "y = k * w3\n",
    "\n",
    "y.rotulo = 'y'\n",
    "\n",
    "plota_grafo(y)"
   ]
  },
  {
   "cell_type": "markdown",
   "metadata": {},
   "source": [
    "## Conclusão\n",
    "\n"
   ]
  },
  {
   "cell_type": "markdown",
   "metadata": {},
   "source": [
    "Nesse experimento nós aprendemos a construir um código que monta grafos de forma automática que representam as redes neurais. Esses grafos representam as operações realizadas na camada oculta, os valores dos neurônios e os gradientes que são importantes para o funcionamento da rede. \n",
    "\n",
    "Para que as operações que se encontram na camada oculta funcionarem é preciso utilizar os dunders \"_mult_\" e \"_add_\" para multiplicação e adição. Além disso, aprendemos a montar os progenitores para armazenamento. O operador \"mãe\" foi montado tanto para multiplicação quanto para adição. Posteriormente, aprendemos a plotar os grafos usando o software GraphViz e, por fim, aprendemos a dar rótulos para os neurônios da rede, tornando a sua indentificação mais fácil."
   ]
  },
  {
   "cell_type": "markdown",
   "metadata": {},
   "source": [
    "## Playground\n",
    "\n"
   ]
  },
  {
   "cell_type": "code",
   "execution_count": null,
   "metadata": {},
   "outputs": [],
   "source": []
  }
 ],
 "metadata": {
  "kernelspec": {
   "display_name": "ilumpy",
   "language": "python",
   "name": "ilumpy"
  },
  "language_info": {
   "codemirror_mode": {
    "name": "ipython",
    "version": 3
   },
   "file_extension": ".py",
   "mimetype": "text/x-python",
   "name": "python",
   "nbconvert_exporter": "python",
   "pygments_lexer": "ipython3",
   "version": "3.9.7"
  },
  "org": null
 },
 "nbformat": 4,
 "nbformat_minor": 4
}
